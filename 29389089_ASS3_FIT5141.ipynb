{
 "cells": [
  {
   "cell_type": "markdown",
   "metadata": {},
   "source": [
    "## FIT5141 Assignment 2"
   ]
  },
  {
   "cell_type": "markdown",
   "metadata": {},
   "source": [
    "Imporint the required libraries"
   ]
  },
  {
   "cell_type": "code",
   "execution_count": null,
   "metadata": {},
   "outputs": [],
   "source": [
    "library(mongolite)\n",
    "library(dplyr)\n",
    "library(ggplot2)\n",
    "library(jsonlite)\n",
    "library(forecast)\n",
    "library(tseries)\n",
    "library(quanteda)"
   ]
  },
  {
   "cell_type": "code",
   "execution_count": null,
   "metadata": {},
   "outputs": [],
   "source": []
  },
  {
   "cell_type": "markdown",
   "metadata": {},
   "source": [
    "# Forecast future prices using an ARIMA model"
   ]
  },
  {
   "cell_type": "markdown",
   "metadata": {},
   "source": [
    "Importing the payments  and orders collection"
   ]
  },
  {
   "cell_type": "code",
   "execution_count": 114,
   "metadata": {},
   "outputs": [],
   "source": [
    "dmd7 = mongo(collection=\"payments\",db=\"customer_records\",url = \"mongodb://localhost?sockettimeoutms=10000000\")"
   ]
  },
  {
   "cell_type": "code",
   "execution_count": 115,
   "metadata": {},
   "outputs": [
    {
     "data": {
      "text/html": [
       "<table>\n",
       "<thead><tr><th scope=col>order_id</th><th scope=col>payment_sequential</th><th scope=col>payment_type</th><th scope=col>payment_installments</th><th scope=col>payment_value</th></tr></thead>\n",
       "<tbody>\n",
       "\t<tr><td>ba78997921bbcdc1373bb41e913ab953</td><td>1                               </td><td>credit_card                     </td><td>8                               </td><td>107.78                          </td></tr>\n",
       "\t<tr><td>b81ef226f3fe1789b1e8b2acac839d17</td><td>1                               </td><td>credit_card                     </td><td>8                               </td><td> 99.33                          </td></tr>\n",
       "\t<tr><td>42fdf880ba16b47b59251dd489d4441a</td><td>1                               </td><td>credit_card                     </td><td>2                               </td><td>128.45                          </td></tr>\n",
       "\t<tr><td>298fcdf1f73eb413e4d26d01b25bc1cd</td><td>1                               </td><td>credit_card                     </td><td>2                               </td><td> 96.12                          </td></tr>\n",
       "\t<tr><td>771ee386b001f06208a7419e4fc1bbd7</td><td>1                               </td><td>credit_card                     </td><td>1                               </td><td> 81.16                          </td></tr>\n",
       "</tbody>\n",
       "</table>\n"
      ],
      "text/latex": [
       "\\begin{tabular}{r|lllll}\n",
       " order\\_id & payment\\_sequential & payment\\_type & payment\\_installments & payment\\_value\\\\\n",
       "\\hline\n",
       "\t ba78997921bbcdc1373bb41e913ab953 & 1                                & credit\\_card                    & 8                                & 107.78                          \\\\\n",
       "\t b81ef226f3fe1789b1e8b2acac839d17 & 1                                & credit\\_card                    & 8                                &  99.33                          \\\\\n",
       "\t 42fdf880ba16b47b59251dd489d4441a & 1                                & credit\\_card                    & 2                                & 128.45                          \\\\\n",
       "\t 298fcdf1f73eb413e4d26d01b25bc1cd & 1                                & credit\\_card                    & 2                                &  96.12                          \\\\\n",
       "\t 771ee386b001f06208a7419e4fc1bbd7 & 1                                & credit\\_card                    & 1                                &  81.16                          \\\\\n",
       "\\end{tabular}\n"
      ],
      "text/markdown": [
       "\n",
       "order_id | payment_sequential | payment_type | payment_installments | payment_value | \n",
       "|---|---|---|---|---|\n",
       "| ba78997921bbcdc1373bb41e913ab953 | 1                                | credit_card                      | 8                                | 107.78                           | \n",
       "| b81ef226f3fe1789b1e8b2acac839d17 | 1                                | credit_card                      | 8                                |  99.33                           | \n",
       "| 42fdf880ba16b47b59251dd489d4441a | 1                                | credit_card                      | 2                                | 128.45                           | \n",
       "| 298fcdf1f73eb413e4d26d01b25bc1cd | 1                                | credit_card                      | 2                                |  96.12                           | \n",
       "| 771ee386b001f06208a7419e4fc1bbd7 | 1                                | credit_card                      | 1                                |  81.16                           | \n",
       "\n",
       "\n"
      ],
      "text/plain": [
       "  order_id                         payment_sequential payment_type\n",
       "1 ba78997921bbcdc1373bb41e913ab953 1                  credit_card \n",
       "2 b81ef226f3fe1789b1e8b2acac839d17 1                  credit_card \n",
       "3 42fdf880ba16b47b59251dd489d4441a 1                  credit_card \n",
       "4 298fcdf1f73eb413e4d26d01b25bc1cd 1                  credit_card \n",
       "5 771ee386b001f06208a7419e4fc1bbd7 1                  credit_card \n",
       "  payment_installments payment_value\n",
       "1 8                    107.78       \n",
       "2 8                     99.33       \n",
       "3 2                    128.45       \n",
       "4 2                     96.12       \n",
       "5 1                     81.16       "
      ]
     },
     "metadata": {},
     "output_type": "display_data"
    }
   ],
   "source": [
    "dmd7$find('{}',limit = 5) "
   ]
  },
  {
   "cell_type": "code",
   "execution_count": 116,
   "metadata": {},
   "outputs": [],
   "source": [
    "dmd8 = mongo(collection=\"orders\",db=\"customer_records\",url = \"mongodb://localhost?sockettimeoutms=10000000\")"
   ]
  },
  {
   "cell_type": "code",
   "execution_count": 117,
   "metadata": {},
   "outputs": [
    {
     "data": {
      "text/html": [
       "<table>\n",
       "<thead><tr><th scope=col>order_id</th><th scope=col>customer_id</th><th scope=col>order_status</th><th scope=col>order_purchase_timestamp</th><th scope=col>order_approved_at</th><th scope=col>order_delivered_carrier_date</th><th scope=col>order_delivered_customer_date</th><th scope=col>order_estimated_delivery_date</th></tr></thead>\n",
       "<tbody>\n",
       "\t<tr><td>e481f51cbdc54678b7cc49136f2d6af7</td><td>9ef432eb6251297304e76186b10a928d</td><td>delivered                       </td><td>2017-10-02 10:56:33             </td><td>2017-10-02 11:07:15             </td><td>2017-10-04 19:55:00             </td><td>2017-10-10 21:25:13             </td><td>2017-10-18 00:00:00             </td></tr>\n",
       "\t<tr><td>47770eb9100c2d0c44946d9cf07ec65d</td><td>41ce2a54c0b03bf3443c3d931a367089</td><td>delivered                       </td><td>2018-08-08 08:38:49             </td><td>2018-08-08 08:55:23             </td><td>2018-08-08 13:50:00             </td><td>2018-08-17 18:06:29             </td><td>2018-09-04 00:00:00             </td></tr>\n",
       "\t<tr><td>949d5b44dbf5de918fe9c16f97b45f8a</td><td>f88197465ea7920adcdbec7375364d82</td><td>delivered                       </td><td>2017-11-18 19:28:06             </td><td>2017-11-18 19:45:59             </td><td>2017-11-22 13:39:59             </td><td>2017-12-02 00:28:42             </td><td>2017-12-15 00:00:00             </td></tr>\n",
       "\t<tr><td>a4591c265e18cb1dcee52889e2d8acc3</td><td>503740e9ca751ccdda7ba28e9ab8f608</td><td>delivered                       </td><td>2017-07-09 21:57:05             </td><td>2017-07-09 22:10:13             </td><td>2017-07-11 14:58:04             </td><td>2017-07-26 10:57:55             </td><td>2017-08-01 00:00:00             </td></tr>\n",
       "\t<tr><td>ad21c59c0840e6cb83a9ceb5573f8159</td><td>8ab97904e6daea8866dbdbc4fb7aad2c</td><td>delivered                       </td><td>2018-02-13 21:18:39             </td><td>2018-02-13 22:20:29             </td><td>2018-02-14 19:46:34             </td><td>2018-02-16 18:17:02             </td><td>2018-02-26 00:00:00             </td></tr>\n",
       "</tbody>\n",
       "</table>\n"
      ],
      "text/latex": [
       "\\begin{tabular}{r|llllllll}\n",
       " order\\_id & customer\\_id & order\\_status & order\\_purchase\\_timestamp & order\\_approved\\_at & order\\_delivered\\_carrier\\_date & order\\_delivered\\_customer\\_date & order\\_estimated\\_delivery\\_date\\\\\n",
       "\\hline\n",
       "\t e481f51cbdc54678b7cc49136f2d6af7 & 9ef432eb6251297304e76186b10a928d & delivered                        & 2017-10-02 10:56:33              & 2017-10-02 11:07:15              & 2017-10-04 19:55:00              & 2017-10-10 21:25:13              & 2017-10-18 00:00:00             \\\\\n",
       "\t 47770eb9100c2d0c44946d9cf07ec65d & 41ce2a54c0b03bf3443c3d931a367089 & delivered                        & 2018-08-08 08:38:49              & 2018-08-08 08:55:23              & 2018-08-08 13:50:00              & 2018-08-17 18:06:29              & 2018-09-04 00:00:00             \\\\\n",
       "\t 949d5b44dbf5de918fe9c16f97b45f8a & f88197465ea7920adcdbec7375364d82 & delivered                        & 2017-11-18 19:28:06              & 2017-11-18 19:45:59              & 2017-11-22 13:39:59              & 2017-12-02 00:28:42              & 2017-12-15 00:00:00             \\\\\n",
       "\t a4591c265e18cb1dcee52889e2d8acc3 & 503740e9ca751ccdda7ba28e9ab8f608 & delivered                        & 2017-07-09 21:57:05              & 2017-07-09 22:10:13              & 2017-07-11 14:58:04              & 2017-07-26 10:57:55              & 2017-08-01 00:00:00             \\\\\n",
       "\t ad21c59c0840e6cb83a9ceb5573f8159 & 8ab97904e6daea8866dbdbc4fb7aad2c & delivered                        & 2018-02-13 21:18:39              & 2018-02-13 22:20:29              & 2018-02-14 19:46:34              & 2018-02-16 18:17:02              & 2018-02-26 00:00:00             \\\\\n",
       "\\end{tabular}\n"
      ],
      "text/markdown": [
       "\n",
       "order_id | customer_id | order_status | order_purchase_timestamp | order_approved_at | order_delivered_carrier_date | order_delivered_customer_date | order_estimated_delivery_date | \n",
       "|---|---|---|---|---|\n",
       "| e481f51cbdc54678b7cc49136f2d6af7 | 9ef432eb6251297304e76186b10a928d | delivered                        | 2017-10-02 10:56:33              | 2017-10-02 11:07:15              | 2017-10-04 19:55:00              | 2017-10-10 21:25:13              | 2017-10-18 00:00:00              | \n",
       "| 47770eb9100c2d0c44946d9cf07ec65d | 41ce2a54c0b03bf3443c3d931a367089 | delivered                        | 2018-08-08 08:38:49              | 2018-08-08 08:55:23              | 2018-08-08 13:50:00              | 2018-08-17 18:06:29              | 2018-09-04 00:00:00              | \n",
       "| 949d5b44dbf5de918fe9c16f97b45f8a | f88197465ea7920adcdbec7375364d82 | delivered                        | 2017-11-18 19:28:06              | 2017-11-18 19:45:59              | 2017-11-22 13:39:59              | 2017-12-02 00:28:42              | 2017-12-15 00:00:00              | \n",
       "| a4591c265e18cb1dcee52889e2d8acc3 | 503740e9ca751ccdda7ba28e9ab8f608 | delivered                        | 2017-07-09 21:57:05              | 2017-07-09 22:10:13              | 2017-07-11 14:58:04              | 2017-07-26 10:57:55              | 2017-08-01 00:00:00              | \n",
       "| ad21c59c0840e6cb83a9ceb5573f8159 | 8ab97904e6daea8866dbdbc4fb7aad2c | delivered                        | 2018-02-13 21:18:39              | 2018-02-13 22:20:29              | 2018-02-14 19:46:34              | 2018-02-16 18:17:02              | 2018-02-26 00:00:00              | \n",
       "\n",
       "\n"
      ],
      "text/plain": [
       "  order_id                         customer_id                     \n",
       "1 e481f51cbdc54678b7cc49136f2d6af7 9ef432eb6251297304e76186b10a928d\n",
       "2 47770eb9100c2d0c44946d9cf07ec65d 41ce2a54c0b03bf3443c3d931a367089\n",
       "3 949d5b44dbf5de918fe9c16f97b45f8a f88197465ea7920adcdbec7375364d82\n",
       "4 a4591c265e18cb1dcee52889e2d8acc3 503740e9ca751ccdda7ba28e9ab8f608\n",
       "5 ad21c59c0840e6cb83a9ceb5573f8159 8ab97904e6daea8866dbdbc4fb7aad2c\n",
       "  order_status order_purchase_timestamp order_approved_at  \n",
       "1 delivered    2017-10-02 10:56:33      2017-10-02 11:07:15\n",
       "2 delivered    2018-08-08 08:38:49      2018-08-08 08:55:23\n",
       "3 delivered    2017-11-18 19:28:06      2017-11-18 19:45:59\n",
       "4 delivered    2017-07-09 21:57:05      2017-07-09 22:10:13\n",
       "5 delivered    2018-02-13 21:18:39      2018-02-13 22:20:29\n",
       "  order_delivered_carrier_date order_delivered_customer_date\n",
       "1 2017-10-04 19:55:00          2017-10-10 21:25:13          \n",
       "2 2018-08-08 13:50:00          2018-08-17 18:06:29          \n",
       "3 2017-11-22 13:39:59          2017-12-02 00:28:42          \n",
       "4 2017-07-11 14:58:04          2017-07-26 10:57:55          \n",
       "5 2018-02-14 19:46:34          2018-02-16 18:17:02          \n",
       "  order_estimated_delivery_date\n",
       "1 2017-10-18 00:00:00          \n",
       "2 2018-09-04 00:00:00          \n",
       "3 2017-12-15 00:00:00          \n",
       "4 2017-08-01 00:00:00          \n",
       "5 2018-02-26 00:00:00          "
      ]
     },
     "metadata": {},
     "output_type": "display_data"
    }
   ],
   "source": [
    "dmd8$find('{}',limit = 5)"
   ]
  },
  {
   "cell_type": "markdown",
   "metadata": {},
   "source": [
    "Joining the 2 collections using the lookup operation and unwinding to replace the nested structure"
   ]
  },
  {
   "cell_type": "code",
   "execution_count": 118,
   "metadata": {},
   "outputs": [],
   "source": [
    "df <- dmd7$aggregate('[\n",
    "    {\n",
    "      \"$lookup\":\n",
    "        {\n",
    "          \"from\": \"orders\",\n",
    "          \"localField\": \"order_id\",\n",
    "          \"foreignField\":\"order_id\",\n",
    "          \"as\": \"order_price\"\n",
    "        }\n",
    "   }\n",
    ",\n",
    "    {\n",
    "        \"$unwind\": \"$order_price\"\n",
    "      }\n",
    "]')"
   ]
  },
  {
   "cell_type": "markdown",
   "metadata": {},
   "source": [
    "Displaying the number of rows"
   ]
  },
  {
   "cell_type": "code",
   "execution_count": 119,
   "metadata": {},
   "outputs": [
    {
     "data": {
      "text/html": [
       "103886"
      ],
      "text/latex": [
       "103886"
      ],
      "text/markdown": [
       "103886"
      ],
      "text/plain": [
       "[1] 103886"
      ]
     },
     "metadata": {},
     "output_type": "display_data"
    }
   ],
   "source": [
    "nrow(df)"
   ]
  },
  {
   "cell_type": "markdown",
   "metadata": {},
   "source": [
    "The str function shows that R considers it as 2 dataframes instead of one(check order_price)"
   ]
  },
  {
   "cell_type": "code",
   "execution_count": 120,
   "metadata": {},
   "outputs": [
    {
     "name": "stdout",
     "output_type": "stream",
     "text": [
      "'data.frame':\t103886 obs. of  7 variables:\n",
      " $ _id                 : chr  \"5d85bc1c656a416543084bb2\" \"5d85bc1c656a416543084bb3\" \"5d85bc1c656a416543084bb4\" \"5d85bc1c656a416543084bb5\" ...\n",
      " $ order_id            : chr  \"ba78997921bbcdc1373bb41e913ab953\" \"b81ef226f3fe1789b1e8b2acac839d17\" \"42fdf880ba16b47b59251dd489d4441a\" \"298fcdf1f73eb413e4d26d01b25bc1cd\" ...\n",
      " $ payment_sequential  : int  1 1 1 1 1 1 1 1 1 1 ...\n",
      " $ payment_type        : chr  \"credit_card\" \"credit_card\" \"credit_card\" \"credit_card\" ...\n",
      " $ payment_installments: int  8 8 2 2 1 6 1 8 3 1 ...\n",
      " $ payment_value       : num  107.8 99.3 128.4 96.1 81.2 ...\n",
      " $ order_price         :'data.frame':\t103886 obs. of  9 variables:\n",
      "  ..$ _id                          : chr  \"5d85bcf462fa33c9ff7d4928\" \"5d85bcf562fa33c9ff7d7188\" \"5d85bcf362fa33c9ff7c7d20\" \"5d85bcf362fa33c9ff7c705b\" ...\n",
      "  ..$ order_id                     : chr  \"ba78997921bbcdc1373bb41e913ab953\" \"b81ef226f3fe1789b1e8b2acac839d17\" \"42fdf880ba16b47b59251dd489d4441a\" \"298fcdf1f73eb413e4d26d01b25bc1cd\" ...\n",
      "  ..$ customer_id                  : chr  \"7a5d8efaaa1081f800628c30d2b0728f\" \"0a8556ac6be836b46b3e89920d59291c\" \"15fd6fb8f8312dbb4674e4518d6fa3b3\" \"a24e6f72471e9dbafcb292bc318f4859\" ...\n",
      "  ..$ order_status                 : chr  \"delivered\" \"delivered\" \"delivered\" \"delivered\" ...\n",
      "  ..$ order_purchase_timestamp     : chr  \"2017-12-06 12:04:06\" \"2018-04-25 22:01:49\" \"2018-05-21 13:59:17\" \"2018-05-07 13:20:41\" ...\n",
      "  ..$ order_approved_at            : chr  \"2017-12-06 12:13:20\" \"2018-04-25 22:15:09\" \"2018-05-21 16:14:41\" \"2018-05-07 15:31:14\" ...\n",
      "  ..$ order_delivered_carrier_date : chr  \"2017-12-07 20:28:28\" \"2018-05-02 15:20:00\" \"2018-05-22 11:46:00\" \"2018-05-10 13:35:00\" ...\n",
      "  ..$ order_delivered_customer_date: chr  \"2017-12-21 01:35:51\" \"2018-05-09 17:36:51\" \"2018-06-01 21:44:53\" \"2018-05-14 19:02:54\" ...\n",
      "  ..$ order_estimated_delivery_date: chr  \"2018-01-04 00:00:00\" \"2018-05-22 00:00:00\" \"2018-06-13 00:00:00\" \"2018-05-23 00:00:00\" ...\n"
     ]
    }
   ],
   "source": [
    "str(df)"
   ]
  },
  {
   "cell_type": "markdown",
   "metadata": {},
   "source": [
    "These are the two dataframes which should actually be just one"
   ]
  },
  {
   "cell_type": "code",
   "execution_count": 121,
   "metadata": {},
   "outputs": [
    {
     "data": {
      "text/html": [
       "<table>\n",
       "<thead><tr><th scope=col>_id</th><th scope=col>order_id</th><th scope=col>customer_id</th><th scope=col>order_status</th><th scope=col>order_purchase_timestamp</th><th scope=col>order_approved_at</th><th scope=col>order_delivered_carrier_date</th><th scope=col>order_delivered_customer_date</th><th scope=col>order_estimated_delivery_date</th></tr></thead>\n",
       "<tbody>\n",
       "\t<tr><td>5d85bcf462fa33c9ff7d4928        </td><td>ba78997921bbcdc1373bb41e913ab953</td><td>7a5d8efaaa1081f800628c30d2b0728f</td><td>delivered                       </td><td>2017-12-06 12:04:06             </td><td>2017-12-06 12:13:20             </td><td>2017-12-07 20:28:28             </td><td>2017-12-21 01:35:51             </td><td>2018-01-04 00:00:00             </td></tr>\n",
       "\t<tr><td>5d85bcf562fa33c9ff7d7188        </td><td>b81ef226f3fe1789b1e8b2acac839d17</td><td>0a8556ac6be836b46b3e89920d59291c</td><td>delivered                       </td><td>2018-04-25 22:01:49             </td><td>2018-04-25 22:15:09             </td><td>2018-05-02 15:20:00             </td><td>2018-05-09 17:36:51             </td><td>2018-05-22 00:00:00             </td></tr>\n",
       "\t<tr><td>5d85bcf362fa33c9ff7c7d20        </td><td>42fdf880ba16b47b59251dd489d4441a</td><td>15fd6fb8f8312dbb4674e4518d6fa3b3</td><td>delivered                       </td><td>2018-05-21 13:59:17             </td><td>2018-05-21 16:14:41             </td><td>2018-05-22 11:46:00             </td><td>2018-06-01 21:44:53             </td><td>2018-06-13 00:00:00             </td></tr>\n",
       "\t<tr><td>5d85bcf362fa33c9ff7c705b        </td><td>298fcdf1f73eb413e4d26d01b25bc1cd</td><td>a24e6f72471e9dbafcb292bc318f4859</td><td>delivered                       </td><td>2018-05-07 13:20:41             </td><td>2018-05-07 15:31:14             </td><td>2018-05-10 13:35:00             </td><td>2018-05-14 19:02:54             </td><td>2018-05-23 00:00:00             </td></tr>\n",
       "\t<tr><td>5d85bcf562fa33c9ff7d7c2c        </td><td>771ee386b001f06208a7419e4fc1bbd7</td><td>206c0fcc717333d169ff95933fb47341</td><td>delivered                       </td><td>2017-06-23 13:11:27             </td><td>2017-06-23 13:25:19             </td><td>2017-06-26 17:33:37             </td><td>2017-07-03 15:59:46             </td><td>2017-07-17 00:00:00             </td></tr>\n",
       "\t<tr><td>5d85bcf562fa33c9ff7dabb5        </td><td>1f78449c87a54faf9e96e88ba1491fa9</td><td>68c9dafdf193586c290b19c71541357a</td><td>delivered                       </td><td>2018-07-22 14:07:35             </td><td>2018-07-23 11:32:08             </td><td>2018-07-23 12:58:00             </td><td>2018-07-28 15:03:04             </td><td>2018-08-14 00:00:00             </td></tr>\n",
       "</tbody>\n",
       "</table>\n"
      ],
      "text/latex": [
       "\\begin{tabular}{r|lllllllll}\n",
       " \\_id & order\\_id & customer\\_id & order\\_status & order\\_purchase\\_timestamp & order\\_approved\\_at & order\\_delivered\\_carrier\\_date & order\\_delivered\\_customer\\_date & order\\_estimated\\_delivery\\_date\\\\\n",
       "\\hline\n",
       "\t 5d85bcf462fa33c9ff7d4928         & ba78997921bbcdc1373bb41e913ab953 & 7a5d8efaaa1081f800628c30d2b0728f & delivered                        & 2017-12-06 12:04:06              & 2017-12-06 12:13:20              & 2017-12-07 20:28:28              & 2017-12-21 01:35:51              & 2018-01-04 00:00:00             \\\\\n",
       "\t 5d85bcf562fa33c9ff7d7188         & b81ef226f3fe1789b1e8b2acac839d17 & 0a8556ac6be836b46b3e89920d59291c & delivered                        & 2018-04-25 22:01:49              & 2018-04-25 22:15:09              & 2018-05-02 15:20:00              & 2018-05-09 17:36:51              & 2018-05-22 00:00:00             \\\\\n",
       "\t 5d85bcf362fa33c9ff7c7d20         & 42fdf880ba16b47b59251dd489d4441a & 15fd6fb8f8312dbb4674e4518d6fa3b3 & delivered                        & 2018-05-21 13:59:17              & 2018-05-21 16:14:41              & 2018-05-22 11:46:00              & 2018-06-01 21:44:53              & 2018-06-13 00:00:00             \\\\\n",
       "\t 5d85bcf362fa33c9ff7c705b         & 298fcdf1f73eb413e4d26d01b25bc1cd & a24e6f72471e9dbafcb292bc318f4859 & delivered                        & 2018-05-07 13:20:41              & 2018-05-07 15:31:14              & 2018-05-10 13:35:00              & 2018-05-14 19:02:54              & 2018-05-23 00:00:00             \\\\\n",
       "\t 5d85bcf562fa33c9ff7d7c2c         & 771ee386b001f06208a7419e4fc1bbd7 & 206c0fcc717333d169ff95933fb47341 & delivered                        & 2017-06-23 13:11:27              & 2017-06-23 13:25:19              & 2017-06-26 17:33:37              & 2017-07-03 15:59:46              & 2017-07-17 00:00:00             \\\\\n",
       "\t 5d85bcf562fa33c9ff7dabb5         & 1f78449c87a54faf9e96e88ba1491fa9 & 68c9dafdf193586c290b19c71541357a & delivered                        & 2018-07-22 14:07:35              & 2018-07-23 11:32:08              & 2018-07-23 12:58:00              & 2018-07-28 15:03:04              & 2018-08-14 00:00:00             \\\\\n",
       "\\end{tabular}\n"
      ],
      "text/markdown": [
       "\n",
       "_id | order_id | customer_id | order_status | order_purchase_timestamp | order_approved_at | order_delivered_carrier_date | order_delivered_customer_date | order_estimated_delivery_date | \n",
       "|---|---|---|---|---|---|\n",
       "| 5d85bcf462fa33c9ff7d4928         | ba78997921bbcdc1373bb41e913ab953 | 7a5d8efaaa1081f800628c30d2b0728f | delivered                        | 2017-12-06 12:04:06              | 2017-12-06 12:13:20              | 2017-12-07 20:28:28              | 2017-12-21 01:35:51              | 2018-01-04 00:00:00              | \n",
       "| 5d85bcf562fa33c9ff7d7188         | b81ef226f3fe1789b1e8b2acac839d17 | 0a8556ac6be836b46b3e89920d59291c | delivered                        | 2018-04-25 22:01:49              | 2018-04-25 22:15:09              | 2018-05-02 15:20:00              | 2018-05-09 17:36:51              | 2018-05-22 00:00:00              | \n",
       "| 5d85bcf362fa33c9ff7c7d20         | 42fdf880ba16b47b59251dd489d4441a | 15fd6fb8f8312dbb4674e4518d6fa3b3 | delivered                        | 2018-05-21 13:59:17              | 2018-05-21 16:14:41              | 2018-05-22 11:46:00              | 2018-06-01 21:44:53              | 2018-06-13 00:00:00              | \n",
       "| 5d85bcf362fa33c9ff7c705b         | 298fcdf1f73eb413e4d26d01b25bc1cd | a24e6f72471e9dbafcb292bc318f4859 | delivered                        | 2018-05-07 13:20:41              | 2018-05-07 15:31:14              | 2018-05-10 13:35:00              | 2018-05-14 19:02:54              | 2018-05-23 00:00:00              | \n",
       "| 5d85bcf562fa33c9ff7d7c2c         | 771ee386b001f06208a7419e4fc1bbd7 | 206c0fcc717333d169ff95933fb47341 | delivered                        | 2017-06-23 13:11:27              | 2017-06-23 13:25:19              | 2017-06-26 17:33:37              | 2017-07-03 15:59:46              | 2017-07-17 00:00:00              | \n",
       "| 5d85bcf562fa33c9ff7dabb5         | 1f78449c87a54faf9e96e88ba1491fa9 | 68c9dafdf193586c290b19c71541357a | delivered                        | 2018-07-22 14:07:35              | 2018-07-23 11:32:08              | 2018-07-23 12:58:00              | 2018-07-28 15:03:04              | 2018-08-14 00:00:00              | \n",
       "\n",
       "\n"
      ],
      "text/plain": [
       "  _id                      order_id                        \n",
       "1 5d85bcf462fa33c9ff7d4928 ba78997921bbcdc1373bb41e913ab953\n",
       "2 5d85bcf562fa33c9ff7d7188 b81ef226f3fe1789b1e8b2acac839d17\n",
       "3 5d85bcf362fa33c9ff7c7d20 42fdf880ba16b47b59251dd489d4441a\n",
       "4 5d85bcf362fa33c9ff7c705b 298fcdf1f73eb413e4d26d01b25bc1cd\n",
       "5 5d85bcf562fa33c9ff7d7c2c 771ee386b001f06208a7419e4fc1bbd7\n",
       "6 5d85bcf562fa33c9ff7dabb5 1f78449c87a54faf9e96e88ba1491fa9\n",
       "  customer_id                      order_status order_purchase_timestamp\n",
       "1 7a5d8efaaa1081f800628c30d2b0728f delivered    2017-12-06 12:04:06     \n",
       "2 0a8556ac6be836b46b3e89920d59291c delivered    2018-04-25 22:01:49     \n",
       "3 15fd6fb8f8312dbb4674e4518d6fa3b3 delivered    2018-05-21 13:59:17     \n",
       "4 a24e6f72471e9dbafcb292bc318f4859 delivered    2018-05-07 13:20:41     \n",
       "5 206c0fcc717333d169ff95933fb47341 delivered    2017-06-23 13:11:27     \n",
       "6 68c9dafdf193586c290b19c71541357a delivered    2018-07-22 14:07:35     \n",
       "  order_approved_at   order_delivered_carrier_date\n",
       "1 2017-12-06 12:13:20 2017-12-07 20:28:28         \n",
       "2 2018-04-25 22:15:09 2018-05-02 15:20:00         \n",
       "3 2018-05-21 16:14:41 2018-05-22 11:46:00         \n",
       "4 2018-05-07 15:31:14 2018-05-10 13:35:00         \n",
       "5 2017-06-23 13:25:19 2017-06-26 17:33:37         \n",
       "6 2018-07-23 11:32:08 2018-07-23 12:58:00         \n",
       "  order_delivered_customer_date order_estimated_delivery_date\n",
       "1 2017-12-21 01:35:51           2018-01-04 00:00:00          \n",
       "2 2018-05-09 17:36:51           2018-05-22 00:00:00          \n",
       "3 2018-06-01 21:44:53           2018-06-13 00:00:00          \n",
       "4 2018-05-14 19:02:54           2018-05-23 00:00:00          \n",
       "5 2017-07-03 15:59:46           2017-07-17 00:00:00          \n",
       "6 2018-07-28 15:03:04           2018-08-14 00:00:00          "
      ]
     },
     "metadata": {},
     "output_type": "display_data"
    }
   ],
   "source": [
    "head(df[,7])"
   ]
  },
  {
   "cell_type": "code",
   "execution_count": 122,
   "metadata": {},
   "outputs": [
    {
     "data": {
      "text/html": [
       "<table>\n",
       "<thead><tr><th scope=col>_id</th><th scope=col>order_id</th><th scope=col>payment_sequential</th><th scope=col>payment_type</th><th scope=col>payment_installments</th><th scope=col>payment_value</th></tr></thead>\n",
       "<tbody>\n",
       "\t<tr><td>5d85bc1c656a416543084bb2        </td><td>ba78997921bbcdc1373bb41e913ab953</td><td>1                               </td><td>credit_card                     </td><td>8                               </td><td>107.78                          </td></tr>\n",
       "\t<tr><td>5d85bc1c656a416543084bb3        </td><td>b81ef226f3fe1789b1e8b2acac839d17</td><td>1                               </td><td>credit_card                     </td><td>8                               </td><td> 99.33                          </td></tr>\n",
       "\t<tr><td>5d85bc1c656a416543084bb4        </td><td>42fdf880ba16b47b59251dd489d4441a</td><td>1                               </td><td>credit_card                     </td><td>2                               </td><td>128.45                          </td></tr>\n",
       "\t<tr><td>5d85bc1c656a416543084bb5        </td><td>298fcdf1f73eb413e4d26d01b25bc1cd</td><td>1                               </td><td>credit_card                     </td><td>2                               </td><td> 96.12                          </td></tr>\n",
       "\t<tr><td>5d85bc1c656a416543084bb6        </td><td>771ee386b001f06208a7419e4fc1bbd7</td><td>1                               </td><td>credit_card                     </td><td>1                               </td><td> 81.16                          </td></tr>\n",
       "\t<tr><td>5d85bc1c656a416543084bb7        </td><td>1f78449c87a54faf9e96e88ba1491fa9</td><td>1                               </td><td>credit_card                     </td><td>6                               </td><td>341.09                          </td></tr>\n",
       "</tbody>\n",
       "</table>\n"
      ],
      "text/latex": [
       "\\begin{tabular}{r|llllll}\n",
       " \\_id & order\\_id & payment\\_sequential & payment\\_type & payment\\_installments & payment\\_value\\\\\n",
       "\\hline\n",
       "\t 5d85bc1c656a416543084bb2         & ba78997921bbcdc1373bb41e913ab953 & 1                                & credit\\_card                    & 8                                & 107.78                          \\\\\n",
       "\t 5d85bc1c656a416543084bb3         & b81ef226f3fe1789b1e8b2acac839d17 & 1                                & credit\\_card                    & 8                                &  99.33                          \\\\\n",
       "\t 5d85bc1c656a416543084bb4         & 42fdf880ba16b47b59251dd489d4441a & 1                                & credit\\_card                    & 2                                & 128.45                          \\\\\n",
       "\t 5d85bc1c656a416543084bb5         & 298fcdf1f73eb413e4d26d01b25bc1cd & 1                                & credit\\_card                    & 2                                &  96.12                          \\\\\n",
       "\t 5d85bc1c656a416543084bb6         & 771ee386b001f06208a7419e4fc1bbd7 & 1                                & credit\\_card                    & 1                                &  81.16                          \\\\\n",
       "\t 5d85bc1c656a416543084bb7         & 1f78449c87a54faf9e96e88ba1491fa9 & 1                                & credit\\_card                    & 6                                & 341.09                          \\\\\n",
       "\\end{tabular}\n"
      ],
      "text/markdown": [
       "\n",
       "_id | order_id | payment_sequential | payment_type | payment_installments | payment_value | \n",
       "|---|---|---|---|---|---|\n",
       "| 5d85bc1c656a416543084bb2         | ba78997921bbcdc1373bb41e913ab953 | 1                                | credit_card                      | 8                                | 107.78                           | \n",
       "| 5d85bc1c656a416543084bb3         | b81ef226f3fe1789b1e8b2acac839d17 | 1                                | credit_card                      | 8                                |  99.33                           | \n",
       "| 5d85bc1c656a416543084bb4         | 42fdf880ba16b47b59251dd489d4441a | 1                                | credit_card                      | 2                                | 128.45                           | \n",
       "| 5d85bc1c656a416543084bb5         | 298fcdf1f73eb413e4d26d01b25bc1cd | 1                                | credit_card                      | 2                                |  96.12                           | \n",
       "| 5d85bc1c656a416543084bb6         | 771ee386b001f06208a7419e4fc1bbd7 | 1                                | credit_card                      | 1                                |  81.16                           | \n",
       "| 5d85bc1c656a416543084bb7         | 1f78449c87a54faf9e96e88ba1491fa9 | 1                                | credit_card                      | 6                                | 341.09                           | \n",
       "\n",
       "\n"
      ],
      "text/plain": [
       "  _id                      order_id                         payment_sequential\n",
       "1 5d85bc1c656a416543084bb2 ba78997921bbcdc1373bb41e913ab953 1                 \n",
       "2 5d85bc1c656a416543084bb3 b81ef226f3fe1789b1e8b2acac839d17 1                 \n",
       "3 5d85bc1c656a416543084bb4 42fdf880ba16b47b59251dd489d4441a 1                 \n",
       "4 5d85bc1c656a416543084bb5 298fcdf1f73eb413e4d26d01b25bc1cd 1                 \n",
       "5 5d85bc1c656a416543084bb6 771ee386b001f06208a7419e4fc1bbd7 1                 \n",
       "6 5d85bc1c656a416543084bb7 1f78449c87a54faf9e96e88ba1491fa9 1                 \n",
       "  payment_type payment_installments payment_value\n",
       "1 credit_card  8                    107.78       \n",
       "2 credit_card  8                     99.33       \n",
       "3 credit_card  2                    128.45       \n",
       "4 credit_card  2                     96.12       \n",
       "5 credit_card  1                     81.16       \n",
       "6 credit_card  6                    341.09       "
      ]
     },
     "metadata": {},
     "output_type": "display_data"
    }
   ],
   "source": [
    "head(df[,1:6])"
   ]
  },
  {
   "cell_type": "markdown",
   "metadata": {},
   "source": [
    "Using cbind to merge thetwo dataframe into one"
   ]
  },
  {
   "cell_type": "code",
   "execution_count": 123,
   "metadata": {},
   "outputs": [],
   "source": [
    "df1 = cbind(df[,2:6],df[,7])   #dropped 1st column as the column 1 and 11th would have the same name"
   ]
  },
  {
   "cell_type": "code",
   "execution_count": 124,
   "metadata": {},
   "outputs": [
    {
     "data": {
      "text/html": [
       "<table>\n",
       "<thead><tr><th scope=col>order_id</th><th scope=col>payment_sequential</th><th scope=col>payment_type</th><th scope=col>payment_installments</th><th scope=col>payment_value</th><th scope=col>_id</th><th scope=col>order_id</th><th scope=col>customer_id</th><th scope=col>order_status</th><th scope=col>order_purchase_timestamp</th><th scope=col>order_approved_at</th><th scope=col>order_delivered_carrier_date</th><th scope=col>order_delivered_customer_date</th><th scope=col>order_estimated_delivery_date</th></tr></thead>\n",
       "<tbody>\n",
       "\t<tr><td>ba78997921bbcdc1373bb41e913ab953</td><td>1                               </td><td>credit_card                     </td><td>8                               </td><td>107.78                          </td><td>5d85bcf462fa33c9ff7d4928        </td><td>ba78997921bbcdc1373bb41e913ab953</td><td>7a5d8efaaa1081f800628c30d2b0728f</td><td>delivered                       </td><td>2017-12-06 12:04:06             </td><td>2017-12-06 12:13:20             </td><td>2017-12-07 20:28:28             </td><td>2017-12-21 01:35:51             </td><td>2018-01-04 00:00:00             </td></tr>\n",
       "\t<tr><td>b81ef226f3fe1789b1e8b2acac839d17</td><td>1                               </td><td>credit_card                     </td><td>8                               </td><td> 99.33                          </td><td>5d85bcf562fa33c9ff7d7188        </td><td>b81ef226f3fe1789b1e8b2acac839d17</td><td>0a8556ac6be836b46b3e89920d59291c</td><td>delivered                       </td><td>2018-04-25 22:01:49             </td><td>2018-04-25 22:15:09             </td><td>2018-05-02 15:20:00             </td><td>2018-05-09 17:36:51             </td><td>2018-05-22 00:00:00             </td></tr>\n",
       "\t<tr><td>42fdf880ba16b47b59251dd489d4441a</td><td>1                               </td><td>credit_card                     </td><td>2                               </td><td>128.45                          </td><td>5d85bcf362fa33c9ff7c7d20        </td><td>42fdf880ba16b47b59251dd489d4441a</td><td>15fd6fb8f8312dbb4674e4518d6fa3b3</td><td>delivered                       </td><td>2018-05-21 13:59:17             </td><td>2018-05-21 16:14:41             </td><td>2018-05-22 11:46:00             </td><td>2018-06-01 21:44:53             </td><td>2018-06-13 00:00:00             </td></tr>\n",
       "\t<tr><td>298fcdf1f73eb413e4d26d01b25bc1cd</td><td>1                               </td><td>credit_card                     </td><td>2                               </td><td> 96.12                          </td><td>5d85bcf362fa33c9ff7c705b        </td><td>298fcdf1f73eb413e4d26d01b25bc1cd</td><td>a24e6f72471e9dbafcb292bc318f4859</td><td>delivered                       </td><td>2018-05-07 13:20:41             </td><td>2018-05-07 15:31:14             </td><td>2018-05-10 13:35:00             </td><td>2018-05-14 19:02:54             </td><td>2018-05-23 00:00:00             </td></tr>\n",
       "\t<tr><td>771ee386b001f06208a7419e4fc1bbd7</td><td>1                               </td><td>credit_card                     </td><td>1                               </td><td> 81.16                          </td><td>5d85bcf562fa33c9ff7d7c2c        </td><td>771ee386b001f06208a7419e4fc1bbd7</td><td>206c0fcc717333d169ff95933fb47341</td><td>delivered                       </td><td>2017-06-23 13:11:27             </td><td>2017-06-23 13:25:19             </td><td>2017-06-26 17:33:37             </td><td>2017-07-03 15:59:46             </td><td>2017-07-17 00:00:00             </td></tr>\n",
       "\t<tr><td>1f78449c87a54faf9e96e88ba1491fa9</td><td>1                               </td><td>credit_card                     </td><td>6                               </td><td>341.09                          </td><td>5d85bcf562fa33c9ff7dabb5        </td><td>1f78449c87a54faf9e96e88ba1491fa9</td><td>68c9dafdf193586c290b19c71541357a</td><td>delivered                       </td><td>2018-07-22 14:07:35             </td><td>2018-07-23 11:32:08             </td><td>2018-07-23 12:58:00             </td><td>2018-07-28 15:03:04             </td><td>2018-08-14 00:00:00             </td></tr>\n",
       "</tbody>\n",
       "</table>\n"
      ],
      "text/latex": [
       "\\begin{tabular}{r|llllllllllllll}\n",
       " order\\_id & payment\\_sequential & payment\\_type & payment\\_installments & payment\\_value & \\_id & order\\_id & customer\\_id & order\\_status & order\\_purchase\\_timestamp & order\\_approved\\_at & order\\_delivered\\_carrier\\_date & order\\_delivered\\_customer\\_date & order\\_estimated\\_delivery\\_date\\\\\n",
       "\\hline\n",
       "\t ba78997921bbcdc1373bb41e913ab953 & 1                                & credit\\_card                    & 8                                & 107.78                           & 5d85bcf462fa33c9ff7d4928         & ba78997921bbcdc1373bb41e913ab953 & 7a5d8efaaa1081f800628c30d2b0728f & delivered                        & 2017-12-06 12:04:06              & 2017-12-06 12:13:20              & 2017-12-07 20:28:28              & 2017-12-21 01:35:51              & 2018-01-04 00:00:00             \\\\\n",
       "\t b81ef226f3fe1789b1e8b2acac839d17 & 1                                & credit\\_card                    & 8                                &  99.33                           & 5d85bcf562fa33c9ff7d7188         & b81ef226f3fe1789b1e8b2acac839d17 & 0a8556ac6be836b46b3e89920d59291c & delivered                        & 2018-04-25 22:01:49              & 2018-04-25 22:15:09              & 2018-05-02 15:20:00              & 2018-05-09 17:36:51              & 2018-05-22 00:00:00             \\\\\n",
       "\t 42fdf880ba16b47b59251dd489d4441a & 1                                & credit\\_card                    & 2                                & 128.45                           & 5d85bcf362fa33c9ff7c7d20         & 42fdf880ba16b47b59251dd489d4441a & 15fd6fb8f8312dbb4674e4518d6fa3b3 & delivered                        & 2018-05-21 13:59:17              & 2018-05-21 16:14:41              & 2018-05-22 11:46:00              & 2018-06-01 21:44:53              & 2018-06-13 00:00:00             \\\\\n",
       "\t 298fcdf1f73eb413e4d26d01b25bc1cd & 1                                & credit\\_card                    & 2                                &  96.12                           & 5d85bcf362fa33c9ff7c705b         & 298fcdf1f73eb413e4d26d01b25bc1cd & a24e6f72471e9dbafcb292bc318f4859 & delivered                        & 2018-05-07 13:20:41              & 2018-05-07 15:31:14              & 2018-05-10 13:35:00              & 2018-05-14 19:02:54              & 2018-05-23 00:00:00             \\\\\n",
       "\t 771ee386b001f06208a7419e4fc1bbd7 & 1                                & credit\\_card                    & 1                                &  81.16                           & 5d85bcf562fa33c9ff7d7c2c         & 771ee386b001f06208a7419e4fc1bbd7 & 206c0fcc717333d169ff95933fb47341 & delivered                        & 2017-06-23 13:11:27              & 2017-06-23 13:25:19              & 2017-06-26 17:33:37              & 2017-07-03 15:59:46              & 2017-07-17 00:00:00             \\\\\n",
       "\t 1f78449c87a54faf9e96e88ba1491fa9 & 1                                & credit\\_card                    & 6                                & 341.09                           & 5d85bcf562fa33c9ff7dabb5         & 1f78449c87a54faf9e96e88ba1491fa9 & 68c9dafdf193586c290b19c71541357a & delivered                        & 2018-07-22 14:07:35              & 2018-07-23 11:32:08              & 2018-07-23 12:58:00              & 2018-07-28 15:03:04              & 2018-08-14 00:00:00             \\\\\n",
       "\\end{tabular}\n"
      ],
      "text/markdown": [
       "\n",
       "order_id | payment_sequential | payment_type | payment_installments | payment_value | _id | order_id | customer_id | order_status | order_purchase_timestamp | order_approved_at | order_delivered_carrier_date | order_delivered_customer_date | order_estimated_delivery_date | \n",
       "|---|---|---|---|---|---|\n",
       "| ba78997921bbcdc1373bb41e913ab953 | 1                                | credit_card                      | 8                                | 107.78                           | 5d85bcf462fa33c9ff7d4928         | ba78997921bbcdc1373bb41e913ab953 | 7a5d8efaaa1081f800628c30d2b0728f | delivered                        | 2017-12-06 12:04:06              | 2017-12-06 12:13:20              | 2017-12-07 20:28:28              | 2017-12-21 01:35:51              | 2018-01-04 00:00:00              | \n",
       "| b81ef226f3fe1789b1e8b2acac839d17 | 1                                | credit_card                      | 8                                |  99.33                           | 5d85bcf562fa33c9ff7d7188         | b81ef226f3fe1789b1e8b2acac839d17 | 0a8556ac6be836b46b3e89920d59291c | delivered                        | 2018-04-25 22:01:49              | 2018-04-25 22:15:09              | 2018-05-02 15:20:00              | 2018-05-09 17:36:51              | 2018-05-22 00:00:00              | \n",
       "| 42fdf880ba16b47b59251dd489d4441a | 1                                | credit_card                      | 2                                | 128.45                           | 5d85bcf362fa33c9ff7c7d20         | 42fdf880ba16b47b59251dd489d4441a | 15fd6fb8f8312dbb4674e4518d6fa3b3 | delivered                        | 2018-05-21 13:59:17              | 2018-05-21 16:14:41              | 2018-05-22 11:46:00              | 2018-06-01 21:44:53              | 2018-06-13 00:00:00              | \n",
       "| 298fcdf1f73eb413e4d26d01b25bc1cd | 1                                | credit_card                      | 2                                |  96.12                           | 5d85bcf362fa33c9ff7c705b         | 298fcdf1f73eb413e4d26d01b25bc1cd | a24e6f72471e9dbafcb292bc318f4859 | delivered                        | 2018-05-07 13:20:41              | 2018-05-07 15:31:14              | 2018-05-10 13:35:00              | 2018-05-14 19:02:54              | 2018-05-23 00:00:00              | \n",
       "| 771ee386b001f06208a7419e4fc1bbd7 | 1                                | credit_card                      | 1                                |  81.16                           | 5d85bcf562fa33c9ff7d7c2c         | 771ee386b001f06208a7419e4fc1bbd7 | 206c0fcc717333d169ff95933fb47341 | delivered                        | 2017-06-23 13:11:27              | 2017-06-23 13:25:19              | 2017-06-26 17:33:37              | 2017-07-03 15:59:46              | 2017-07-17 00:00:00              | \n",
       "| 1f78449c87a54faf9e96e88ba1491fa9 | 1                                | credit_card                      | 6                                | 341.09                           | 5d85bcf562fa33c9ff7dabb5         | 1f78449c87a54faf9e96e88ba1491fa9 | 68c9dafdf193586c290b19c71541357a | delivered                        | 2018-07-22 14:07:35              | 2018-07-23 11:32:08              | 2018-07-23 12:58:00              | 2018-07-28 15:03:04              | 2018-08-14 00:00:00              | \n",
       "\n",
       "\n"
      ],
      "text/plain": [
       "  order_id                         payment_sequential payment_type\n",
       "1 ba78997921bbcdc1373bb41e913ab953 1                  credit_card \n",
       "2 b81ef226f3fe1789b1e8b2acac839d17 1                  credit_card \n",
       "3 42fdf880ba16b47b59251dd489d4441a 1                  credit_card \n",
       "4 298fcdf1f73eb413e4d26d01b25bc1cd 1                  credit_card \n",
       "5 771ee386b001f06208a7419e4fc1bbd7 1                  credit_card \n",
       "6 1f78449c87a54faf9e96e88ba1491fa9 1                  credit_card \n",
       "  payment_installments payment_value _id                     \n",
       "1 8                    107.78        5d85bcf462fa33c9ff7d4928\n",
       "2 8                     99.33        5d85bcf562fa33c9ff7d7188\n",
       "3 2                    128.45        5d85bcf362fa33c9ff7c7d20\n",
       "4 2                     96.12        5d85bcf362fa33c9ff7c705b\n",
       "5 1                     81.16        5d85bcf562fa33c9ff7d7c2c\n",
       "6 6                    341.09        5d85bcf562fa33c9ff7dabb5\n",
       "  order_id                         customer_id                     \n",
       "1 ba78997921bbcdc1373bb41e913ab953 7a5d8efaaa1081f800628c30d2b0728f\n",
       "2 b81ef226f3fe1789b1e8b2acac839d17 0a8556ac6be836b46b3e89920d59291c\n",
       "3 42fdf880ba16b47b59251dd489d4441a 15fd6fb8f8312dbb4674e4518d6fa3b3\n",
       "4 298fcdf1f73eb413e4d26d01b25bc1cd a24e6f72471e9dbafcb292bc318f4859\n",
       "5 771ee386b001f06208a7419e4fc1bbd7 206c0fcc717333d169ff95933fb47341\n",
       "6 1f78449c87a54faf9e96e88ba1491fa9 68c9dafdf193586c290b19c71541357a\n",
       "  order_status order_purchase_timestamp order_approved_at  \n",
       "1 delivered    2017-12-06 12:04:06      2017-12-06 12:13:20\n",
       "2 delivered    2018-04-25 22:01:49      2018-04-25 22:15:09\n",
       "3 delivered    2018-05-21 13:59:17      2018-05-21 16:14:41\n",
       "4 delivered    2018-05-07 13:20:41      2018-05-07 15:31:14\n",
       "5 delivered    2017-06-23 13:11:27      2017-06-23 13:25:19\n",
       "6 delivered    2018-07-22 14:07:35      2018-07-23 11:32:08\n",
       "  order_delivered_carrier_date order_delivered_customer_date\n",
       "1 2017-12-07 20:28:28          2017-12-21 01:35:51          \n",
       "2 2018-05-02 15:20:00          2018-05-09 17:36:51          \n",
       "3 2018-05-22 11:46:00          2018-06-01 21:44:53          \n",
       "4 2018-05-10 13:35:00          2018-05-14 19:02:54          \n",
       "5 2017-06-26 17:33:37          2017-07-03 15:59:46          \n",
       "6 2018-07-23 12:58:00          2018-07-28 15:03:04          \n",
       "  order_estimated_delivery_date\n",
       "1 2018-01-04 00:00:00          \n",
       "2 2018-05-22 00:00:00          \n",
       "3 2018-06-13 00:00:00          \n",
       "4 2018-05-23 00:00:00          \n",
       "5 2017-07-17 00:00:00          \n",
       "6 2018-08-14 00:00:00          "
      ]
     },
     "metadata": {},
     "output_type": "display_data"
    }
   ],
   "source": [
    "head(df1)"
   ]
  },
  {
   "cell_type": "code",
   "execution_count": 125,
   "metadata": {},
   "outputs": [],
   "source": [
    "#(as.integer(substr(df1[1,10],1,10)) - 2016) * 365 + (as.integer(substr(df1[1,10],1,4)) - 09) * "
   ]
  },
  {
   "cell_type": "code",
   "execution_count": 134,
   "metadata": {},
   "outputs": [],
   "source": [
    "df1$days <- 0"
   ]
  },
  {
   "cell_type": "markdown",
   "metadata": {},
   "source": [
    "Creating a new column days which will display the number of days from 2016-09-04 i.e the first date in the database"
   ]
  },
  {
   "cell_type": "code",
   "execution_count": 136,
   "metadata": {},
   "outputs": [],
   "source": [
    "for (i in 1:nrow(df1))\n",
    "{\n",
    "    df1[i,15] <- as.integer(as.Date(substr(df1[i,10],1,10),\"%Y-%m-%d\") - as.Date('2016-09-04',\"%Y-%m-%d\"))\n",
    "}"
   ]
  },
  {
   "cell_type": "code",
   "execution_count": 137,
   "metadata": {},
   "outputs": [
    {
     "data": {
      "text/html": [
       "<table>\n",
       "<thead><tr><th scope=col>order_id</th><th scope=col>payment_sequential</th><th scope=col>payment_type</th><th scope=col>payment_installments</th><th scope=col>payment_value</th><th scope=col>_id</th><th scope=col>order_id</th><th scope=col>customer_id</th><th scope=col>order_status</th><th scope=col>order_purchase_timestamp</th><th scope=col>order_approved_at</th><th scope=col>order_delivered_carrier_date</th><th scope=col>order_delivered_customer_date</th><th scope=col>order_estimated_delivery_date</th><th scope=col>days</th></tr></thead>\n",
       "<tbody>\n",
       "\t<tr><td>ba78997921bbcdc1373bb41e913ab953</td><td>1                               </td><td>credit_card                     </td><td>8                               </td><td>107.78                          </td><td>5d85bcf462fa33c9ff7d4928        </td><td>ba78997921bbcdc1373bb41e913ab953</td><td>7a5d8efaaa1081f800628c30d2b0728f</td><td>delivered                       </td><td>2017-12-06 12:04:06             </td><td>2017-12-06 12:13:20             </td><td>2017-12-07 20:28:28             </td><td>2017-12-21 01:35:51             </td><td>2018-01-04 00:00:00             </td><td>458                             </td></tr>\n",
       "\t<tr><td>b81ef226f3fe1789b1e8b2acac839d17</td><td>1                               </td><td>credit_card                     </td><td>8                               </td><td> 99.33                          </td><td>5d85bcf562fa33c9ff7d7188        </td><td>b81ef226f3fe1789b1e8b2acac839d17</td><td>0a8556ac6be836b46b3e89920d59291c</td><td>delivered                       </td><td>2018-04-25 22:01:49             </td><td>2018-04-25 22:15:09             </td><td>2018-05-02 15:20:00             </td><td>2018-05-09 17:36:51             </td><td>2018-05-22 00:00:00             </td><td>598                             </td></tr>\n",
       "\t<tr><td>42fdf880ba16b47b59251dd489d4441a</td><td>1                               </td><td>credit_card                     </td><td>2                               </td><td>128.45                          </td><td>5d85bcf362fa33c9ff7c7d20        </td><td>42fdf880ba16b47b59251dd489d4441a</td><td>15fd6fb8f8312dbb4674e4518d6fa3b3</td><td>delivered                       </td><td>2018-05-21 13:59:17             </td><td>2018-05-21 16:14:41             </td><td>2018-05-22 11:46:00             </td><td>2018-06-01 21:44:53             </td><td>2018-06-13 00:00:00             </td><td>624                             </td></tr>\n",
       "\t<tr><td>298fcdf1f73eb413e4d26d01b25bc1cd</td><td>1                               </td><td>credit_card                     </td><td>2                               </td><td> 96.12                          </td><td>5d85bcf362fa33c9ff7c705b        </td><td>298fcdf1f73eb413e4d26d01b25bc1cd</td><td>a24e6f72471e9dbafcb292bc318f4859</td><td>delivered                       </td><td>2018-05-07 13:20:41             </td><td>2018-05-07 15:31:14             </td><td>2018-05-10 13:35:00             </td><td>2018-05-14 19:02:54             </td><td>2018-05-23 00:00:00             </td><td>610                             </td></tr>\n",
       "\t<tr><td>771ee386b001f06208a7419e4fc1bbd7</td><td>1                               </td><td>credit_card                     </td><td>1                               </td><td> 81.16                          </td><td>5d85bcf562fa33c9ff7d7c2c        </td><td>771ee386b001f06208a7419e4fc1bbd7</td><td>206c0fcc717333d169ff95933fb47341</td><td>delivered                       </td><td>2017-06-23 13:11:27             </td><td>2017-06-23 13:25:19             </td><td>2017-06-26 17:33:37             </td><td>2017-07-03 15:59:46             </td><td>2017-07-17 00:00:00             </td><td>292                             </td></tr>\n",
       "\t<tr><td>1f78449c87a54faf9e96e88ba1491fa9</td><td>1                               </td><td>credit_card                     </td><td>6                               </td><td>341.09                          </td><td>5d85bcf562fa33c9ff7dabb5        </td><td>1f78449c87a54faf9e96e88ba1491fa9</td><td>68c9dafdf193586c290b19c71541357a</td><td>delivered                       </td><td>2018-07-22 14:07:35             </td><td>2018-07-23 11:32:08             </td><td>2018-07-23 12:58:00             </td><td>2018-07-28 15:03:04             </td><td>2018-08-14 00:00:00             </td><td>686                             </td></tr>\n",
       "</tbody>\n",
       "</table>\n"
      ],
      "text/latex": [
       "\\begin{tabular}{r|lllllllllllllll}\n",
       " order\\_id & payment\\_sequential & payment\\_type & payment\\_installments & payment\\_value & \\_id & order\\_id & customer\\_id & order\\_status & order\\_purchase\\_timestamp & order\\_approved\\_at & order\\_delivered\\_carrier\\_date & order\\_delivered\\_customer\\_date & order\\_estimated\\_delivery\\_date & days\\\\\n",
       "\\hline\n",
       "\t ba78997921bbcdc1373bb41e913ab953 & 1                                & credit\\_card                    & 8                                & 107.78                           & 5d85bcf462fa33c9ff7d4928         & ba78997921bbcdc1373bb41e913ab953 & 7a5d8efaaa1081f800628c30d2b0728f & delivered                        & 2017-12-06 12:04:06              & 2017-12-06 12:13:20              & 2017-12-07 20:28:28              & 2017-12-21 01:35:51              & 2018-01-04 00:00:00              & 458                             \\\\\n",
       "\t b81ef226f3fe1789b1e8b2acac839d17 & 1                                & credit\\_card                    & 8                                &  99.33                           & 5d85bcf562fa33c9ff7d7188         & b81ef226f3fe1789b1e8b2acac839d17 & 0a8556ac6be836b46b3e89920d59291c & delivered                        & 2018-04-25 22:01:49              & 2018-04-25 22:15:09              & 2018-05-02 15:20:00              & 2018-05-09 17:36:51              & 2018-05-22 00:00:00              & 598                             \\\\\n",
       "\t 42fdf880ba16b47b59251dd489d4441a & 1                                & credit\\_card                    & 2                                & 128.45                           & 5d85bcf362fa33c9ff7c7d20         & 42fdf880ba16b47b59251dd489d4441a & 15fd6fb8f8312dbb4674e4518d6fa3b3 & delivered                        & 2018-05-21 13:59:17              & 2018-05-21 16:14:41              & 2018-05-22 11:46:00              & 2018-06-01 21:44:53              & 2018-06-13 00:00:00              & 624                             \\\\\n",
       "\t 298fcdf1f73eb413e4d26d01b25bc1cd & 1                                & credit\\_card                    & 2                                &  96.12                           & 5d85bcf362fa33c9ff7c705b         & 298fcdf1f73eb413e4d26d01b25bc1cd & a24e6f72471e9dbafcb292bc318f4859 & delivered                        & 2018-05-07 13:20:41              & 2018-05-07 15:31:14              & 2018-05-10 13:35:00              & 2018-05-14 19:02:54              & 2018-05-23 00:00:00              & 610                             \\\\\n",
       "\t 771ee386b001f06208a7419e4fc1bbd7 & 1                                & credit\\_card                    & 1                                &  81.16                           & 5d85bcf562fa33c9ff7d7c2c         & 771ee386b001f06208a7419e4fc1bbd7 & 206c0fcc717333d169ff95933fb47341 & delivered                        & 2017-06-23 13:11:27              & 2017-06-23 13:25:19              & 2017-06-26 17:33:37              & 2017-07-03 15:59:46              & 2017-07-17 00:00:00              & 292                             \\\\\n",
       "\t 1f78449c87a54faf9e96e88ba1491fa9 & 1                                & credit\\_card                    & 6                                & 341.09                           & 5d85bcf562fa33c9ff7dabb5         & 1f78449c87a54faf9e96e88ba1491fa9 & 68c9dafdf193586c290b19c71541357a & delivered                        & 2018-07-22 14:07:35              & 2018-07-23 11:32:08              & 2018-07-23 12:58:00              & 2018-07-28 15:03:04              & 2018-08-14 00:00:00              & 686                             \\\\\n",
       "\\end{tabular}\n"
      ],
      "text/markdown": [
       "\n",
       "order_id | payment_sequential | payment_type | payment_installments | payment_value | _id | order_id | customer_id | order_status | order_purchase_timestamp | order_approved_at | order_delivered_carrier_date | order_delivered_customer_date | order_estimated_delivery_date | days | \n",
       "|---|---|---|---|---|---|\n",
       "| ba78997921bbcdc1373bb41e913ab953 | 1                                | credit_card                      | 8                                | 107.78                           | 5d85bcf462fa33c9ff7d4928         | ba78997921bbcdc1373bb41e913ab953 | 7a5d8efaaa1081f800628c30d2b0728f | delivered                        | 2017-12-06 12:04:06              | 2017-12-06 12:13:20              | 2017-12-07 20:28:28              | 2017-12-21 01:35:51              | 2018-01-04 00:00:00              | 458                              | \n",
       "| b81ef226f3fe1789b1e8b2acac839d17 | 1                                | credit_card                      | 8                                |  99.33                           | 5d85bcf562fa33c9ff7d7188         | b81ef226f3fe1789b1e8b2acac839d17 | 0a8556ac6be836b46b3e89920d59291c | delivered                        | 2018-04-25 22:01:49              | 2018-04-25 22:15:09              | 2018-05-02 15:20:00              | 2018-05-09 17:36:51              | 2018-05-22 00:00:00              | 598                              | \n",
       "| 42fdf880ba16b47b59251dd489d4441a | 1                                | credit_card                      | 2                                | 128.45                           | 5d85bcf362fa33c9ff7c7d20         | 42fdf880ba16b47b59251dd489d4441a | 15fd6fb8f8312dbb4674e4518d6fa3b3 | delivered                        | 2018-05-21 13:59:17              | 2018-05-21 16:14:41              | 2018-05-22 11:46:00              | 2018-06-01 21:44:53              | 2018-06-13 00:00:00              | 624                              | \n",
       "| 298fcdf1f73eb413e4d26d01b25bc1cd | 1                                | credit_card                      | 2                                |  96.12                           | 5d85bcf362fa33c9ff7c705b         | 298fcdf1f73eb413e4d26d01b25bc1cd | a24e6f72471e9dbafcb292bc318f4859 | delivered                        | 2018-05-07 13:20:41              | 2018-05-07 15:31:14              | 2018-05-10 13:35:00              | 2018-05-14 19:02:54              | 2018-05-23 00:00:00              | 610                              | \n",
       "| 771ee386b001f06208a7419e4fc1bbd7 | 1                                | credit_card                      | 1                                |  81.16                           | 5d85bcf562fa33c9ff7d7c2c         | 771ee386b001f06208a7419e4fc1bbd7 | 206c0fcc717333d169ff95933fb47341 | delivered                        | 2017-06-23 13:11:27              | 2017-06-23 13:25:19              | 2017-06-26 17:33:37              | 2017-07-03 15:59:46              | 2017-07-17 00:00:00              | 292                              | \n",
       "| 1f78449c87a54faf9e96e88ba1491fa9 | 1                                | credit_card                      | 6                                | 341.09                           | 5d85bcf562fa33c9ff7dabb5         | 1f78449c87a54faf9e96e88ba1491fa9 | 68c9dafdf193586c290b19c71541357a | delivered                        | 2018-07-22 14:07:35              | 2018-07-23 11:32:08              | 2018-07-23 12:58:00              | 2018-07-28 15:03:04              | 2018-08-14 00:00:00              | 686                              | \n",
       "\n",
       "\n"
      ],
      "text/plain": [
       "  order_id                         payment_sequential payment_type\n",
       "1 ba78997921bbcdc1373bb41e913ab953 1                  credit_card \n",
       "2 b81ef226f3fe1789b1e8b2acac839d17 1                  credit_card \n",
       "3 42fdf880ba16b47b59251dd489d4441a 1                  credit_card \n",
       "4 298fcdf1f73eb413e4d26d01b25bc1cd 1                  credit_card \n",
       "5 771ee386b001f06208a7419e4fc1bbd7 1                  credit_card \n",
       "6 1f78449c87a54faf9e96e88ba1491fa9 1                  credit_card \n",
       "  payment_installments payment_value _id                     \n",
       "1 8                    107.78        5d85bcf462fa33c9ff7d4928\n",
       "2 8                     99.33        5d85bcf562fa33c9ff7d7188\n",
       "3 2                    128.45        5d85bcf362fa33c9ff7c7d20\n",
       "4 2                     96.12        5d85bcf362fa33c9ff7c705b\n",
       "5 1                     81.16        5d85bcf562fa33c9ff7d7c2c\n",
       "6 6                    341.09        5d85bcf562fa33c9ff7dabb5\n",
       "  order_id                         customer_id                     \n",
       "1 ba78997921bbcdc1373bb41e913ab953 7a5d8efaaa1081f800628c30d2b0728f\n",
       "2 b81ef226f3fe1789b1e8b2acac839d17 0a8556ac6be836b46b3e89920d59291c\n",
       "3 42fdf880ba16b47b59251dd489d4441a 15fd6fb8f8312dbb4674e4518d6fa3b3\n",
       "4 298fcdf1f73eb413e4d26d01b25bc1cd a24e6f72471e9dbafcb292bc318f4859\n",
       "5 771ee386b001f06208a7419e4fc1bbd7 206c0fcc717333d169ff95933fb47341\n",
       "6 1f78449c87a54faf9e96e88ba1491fa9 68c9dafdf193586c290b19c71541357a\n",
       "  order_status order_purchase_timestamp order_approved_at  \n",
       "1 delivered    2017-12-06 12:04:06      2017-12-06 12:13:20\n",
       "2 delivered    2018-04-25 22:01:49      2018-04-25 22:15:09\n",
       "3 delivered    2018-05-21 13:59:17      2018-05-21 16:14:41\n",
       "4 delivered    2018-05-07 13:20:41      2018-05-07 15:31:14\n",
       "5 delivered    2017-06-23 13:11:27      2017-06-23 13:25:19\n",
       "6 delivered    2018-07-22 14:07:35      2018-07-23 11:32:08\n",
       "  order_delivered_carrier_date order_delivered_customer_date\n",
       "1 2017-12-07 20:28:28          2017-12-21 01:35:51          \n",
       "2 2018-05-02 15:20:00          2018-05-09 17:36:51          \n",
       "3 2018-05-22 11:46:00          2018-06-01 21:44:53          \n",
       "4 2018-05-10 13:35:00          2018-05-14 19:02:54          \n",
       "5 2017-06-26 17:33:37          2017-07-03 15:59:46          \n",
       "6 2018-07-23 12:58:00          2018-07-28 15:03:04          \n",
       "  order_estimated_delivery_date days\n",
       "1 2018-01-04 00:00:00           458 \n",
       "2 2018-05-22 00:00:00           598 \n",
       "3 2018-06-13 00:00:00           624 \n",
       "4 2018-05-23 00:00:00           610 \n",
       "5 2017-07-17 00:00:00           292 \n",
       "6 2018-08-14 00:00:00           686 "
      ]
     },
     "metadata": {},
     "output_type": "display_data"
    }
   ],
   "source": [
    "head(df1)"
   ]
  },
  {
   "cell_type": "code",
   "execution_count": 138,
   "metadata": {},
   "outputs": [
    {
     "data": {
      "text/html": [
       "<ol class=list-inline>\n",
       "\t<li>'order_id'</li>\n",
       "\t<li>'payment_sequential'</li>\n",
       "\t<li>'payment_type'</li>\n",
       "\t<li>'payment_installments'</li>\n",
       "\t<li>'payment_value'</li>\n",
       "\t<li>'_id'</li>\n",
       "\t<li>'order_id'</li>\n",
       "\t<li>'customer_id'</li>\n",
       "\t<li>'order_status'</li>\n",
       "\t<li>'order_purchase_timestamp'</li>\n",
       "\t<li>'order_approved_at'</li>\n",
       "\t<li>'order_delivered_carrier_date'</li>\n",
       "\t<li>'order_delivered_customer_date'</li>\n",
       "\t<li>'order_estimated_delivery_date'</li>\n",
       "\t<li>'days'</li>\n",
       "</ol>\n"
      ],
      "text/latex": [
       "\\begin{enumerate*}\n",
       "\\item 'order\\_id'\n",
       "\\item 'payment\\_sequential'\n",
       "\\item 'payment\\_type'\n",
       "\\item 'payment\\_installments'\n",
       "\\item 'payment\\_value'\n",
       "\\item '\\_id'\n",
       "\\item 'order\\_id'\n",
       "\\item 'customer\\_id'\n",
       "\\item 'order\\_status'\n",
       "\\item 'order\\_purchase\\_timestamp'\n",
       "\\item 'order\\_approved\\_at'\n",
       "\\item 'order\\_delivered\\_carrier\\_date'\n",
       "\\item 'order\\_delivered\\_customer\\_date'\n",
       "\\item 'order\\_estimated\\_delivery\\_date'\n",
       "\\item 'days'\n",
       "\\end{enumerate*}\n"
      ],
      "text/markdown": [
       "1. 'order_id'\n",
       "2. 'payment_sequential'\n",
       "3. 'payment_type'\n",
       "4. 'payment_installments'\n",
       "5. 'payment_value'\n",
       "6. '_id'\n",
       "7. 'order_id'\n",
       "8. 'customer_id'\n",
       "9. 'order_status'\n",
       "10. 'order_purchase_timestamp'\n",
       "11. 'order_approved_at'\n",
       "12. 'order_delivered_carrier_date'\n",
       "13. 'order_delivered_customer_date'\n",
       "14. 'order_estimated_delivery_date'\n",
       "15. 'days'\n",
       "\n",
       "\n"
      ],
      "text/plain": [
       " [1] \"order_id\"                      \"payment_sequential\"           \n",
       " [3] \"payment_type\"                  \"payment_installments\"         \n",
       " [5] \"payment_value\"                 \"_id\"                          \n",
       " [7] \"order_id\"                      \"customer_id\"                  \n",
       " [9] \"order_status\"                  \"order_purchase_timestamp\"     \n",
       "[11] \"order_approved_at\"             \"order_delivered_carrier_date\" \n",
       "[13] \"order_delivered_customer_date\" \"order_estimated_delivery_date\"\n",
       "[15] \"days\"                         "
      ]
     },
     "metadata": {},
     "output_type": "display_data"
    }
   ],
   "source": [
    "names(df1)"
   ]
  },
  {
   "cell_type": "code",
   "execution_count": 139,
   "metadata": {},
   "outputs": [],
   "source": [
    "df1 <- df1[,-c(7)]  # dropping similar columns"
   ]
  },
  {
   "cell_type": "markdown",
   "metadata": {},
   "source": [
    "Grouping by days and sum operation to find the total revenue in each day"
   ]
  },
  {
   "cell_type": "code",
   "execution_count": 140,
   "metadata": {},
   "outputs": [],
   "source": [
    "res <- df1 %>% \n",
    "  group_by(days) %>%  summarise(Payment = sum(payment_value))\n"
   ]
  },
  {
   "cell_type": "code",
   "execution_count": 141,
   "metadata": {},
   "outputs": [],
   "source": [
    "res <- res[1:600,]     # after 600 days it's to unpredicatble"
   ]
  },
  {
   "cell_type": "code",
   "execution_count": 142,
   "metadata": {},
   "outputs": [],
   "source": [
    "#res"
   ]
  },
  {
   "cell_type": "code",
   "execution_count": 143,
   "metadata": {},
   "outputs": [
    {
     "data": {},
     "metadata": {},
     "output_type": "display_data"
    },
    {
     "data": {
      "image/png": "[encoded data removed]",
      "text/plain": [
       "plot without title"
      ]
     },
     "metadata": {},
     "output_type": "display_data"
    }
   ],
   "source": [
    "#plot(res$days,res$Payment)\n",
    "ggplot(data=res, aes(x=days, y=Payment, group=1)) +\n",
    "  geom_line(color=\"red\")+\n",
    "  geom_point()\n",
    "#res"
   ]
  },
  {
   "cell_type": "markdown",
   "metadata": {},
   "source": [
    "This shows the basic plot of the revenue per day"
   ]
  },
  {
   "cell_type": "code",
   "execution_count": 144,
   "metadata": {},
   "outputs": [],
   "source": [
    "Payment_ts = ts(res[, c('Payment')])    # removing outliers"
   ]
  },
  {
   "cell_type": "code",
   "execution_count": 145,
   "metadata": {},
   "outputs": [
    {
     "data": {
      "text/html": [
       "600"
      ],
      "text/latex": [
       "600"
      ],
      "text/markdown": [
       "600"
      ],
      "text/plain": [
       "[1] 600"
      ]
     },
     "metadata": {},
     "output_type": "display_data"
    }
   ],
   "source": [
    "length(Payment_ts)"
   ]
  },
  {
   "cell_type": "code",
   "execution_count": 146,
   "metadata": {},
   "outputs": [],
   "source": [
    "res$Payment_ts = tsclean(as.vector(Payment_ts))"
   ]
  },
  {
   "cell_type": "markdown",
   "metadata": {},
   "source": [
    "New plot after emoving outliers"
   ]
  },
  {
   "cell_type": "code",
   "execution_count": 147,
   "metadata": {},
   "outputs": [
    {
     "data": {},
     "metadata": {},
     "output_type": "display_data"
    },
    {
     "data": {
      "image/png": "[encoded data removed]",
      "text/plain": [
       "plot without title"
      ]
     },
     "metadata": {},
     "output_type": "display_data"
    }
   ],
   "source": [
    "ggplot(data=res, aes(x=days, y=Payment_ts, group=1)) +\n",
    "  geom_line(color=\"red\")+\n",
    "  geom_point()\n",
    "#res"
   ]
  },
  {
   "cell_type": "markdown",
   "metadata": {},
   "source": [
    "Calculating and plotting moving average"
   ]
  },
  {
   "cell_type": "code",
   "execution_count": 148,
   "metadata": {},
   "outputs": [],
   "source": [
    "res$payment_ma7 = ma(res$Payment_ts, order=7) # using the clean count with no out\n",
    "res$payment_ma30 = ma(res$Payment_ts, order=30)"
   ]
  },
  {
   "cell_type": "code",
   "execution_count": 149,
   "metadata": {},
   "outputs": [
    {
     "name": "stderr",
     "output_type": "stream",
     "text": [
      "Don't know how to automatically pick scale for object of type ts. Defaulting to continuous.\n",
      "Warning message:\n",
      "\"Removed 6 rows containing missing values (geom_path).\"Warning message:\n",
      "\"Removed 30 rows containing missing values (geom_path).\""
     ]
    },
    {
     "data": {},
     "metadata": {},
     "output_type": "display_data"
    },
    {
     "data": {
      "image/png": "[encoded data removed]",
      "text/plain": [
       "plot without title"
      ]
     },
     "metadata": {},
     "output_type": "display_data"
    }
   ],
   "source": [
    "ggplot() + \n",
    "  #geom_line(data = daily_data, aes(x = Date, y = clean_cnt, colour = \"Counts\")) +\n",
    "  geom_line(data = res, aes(x = days, y = payment_ma7,   colour = \"MA weekly\"))  +\n",
    "  geom_line(data = res, aes(x = days, y = payment_ma30, colour = \"MA monthly\"))  +\n",
    "  ylab('Payments_total') "
   ]
  },
  {
   "cell_type": "markdown",
   "metadata": {},
   "source": [
    "Decomposing to identify trends, seasonality and cyclic nature"
   ]
  },
  {
   "cell_type": "code",
   "execution_count": 150,
   "metadata": {},
   "outputs": [
    {
     "data": {
      "image/png": "[encoded data removed]",
      "text/plain": [
       "plot without title"
      ]
     },
     "metadata": {},
     "output_type": "display_data"
    }
   ],
   "source": [
    "Payment_ma = ts(na.omit(res$payment_ma7), frequency=30) \n",
    "#allow.multiplicative.trend=TRUE)\n",
    "decomp1 = stl(Payment_ma, s.window=\"periodic\")\n",
    "plot(decomp1)"
   ]
  },
  {
   "cell_type": "markdown",
   "metadata": {},
   "source": [
    "ADF test helps too figure if the plot is stationary or not as ARIMA doesn't work for non stationary models"
   ]
  },
  {
   "cell_type": "code",
   "execution_count": 151,
   "metadata": {},
   "outputs": [
    {
     "name": "stderr",
     "output_type": "stream",
     "text": [
      "Warning message in adf.test(Payment_ma, alternative = \"stationary\"):\n",
      "\"p-value smaller than printed p-value\""
     ]
    },
    {
     "data": {
      "text/plain": [
       "\n",
       "\tAugmented Dickey-Fuller Test\n",
       "\n",
       "data:  Payment_ma\n",
       "Dickey-Fuller = -4.9015, Lag order = 8, p-value = 0.01\n",
       "alternative hypothesis: stationary\n"
      ]
     },
     "metadata": {},
     "output_type": "display_data"
    }
   ],
   "source": [
    "adf.test(Payment_ma, alternative = \"stationary\")"
   ]
  },
  {
   "cell_type": "code",
   "execution_count": 152,
   "metadata": {},
   "outputs": [
    {
     "data": {
      "image/png": "[encoded data removed]",
      "text/plain": [
       "Plot with title \"\""
      ]
     },
     "metadata": {},
     "output_type": "display_data"
    },
    {
     "data": {
      "image/png": "[encoded data removed]",
      "text/plain": [
       "Plot with title \"\""
      ]
     },
     "metadata": {},
     "output_type": "display_data"
    }
   ],
   "source": [
    "Acf(Payment_ma, main='')\n",
    "\n",
    "Pacf(Payment_ma, main='')"
   ]
  },
  {
   "cell_type": "markdown",
   "metadata": {},
   "source": [
    "ACF plot shows non-stationary nature"
   ]
  },
  {
   "cell_type": "code",
   "execution_count": 153,
   "metadata": {},
   "outputs": [
    {
     "name": "stderr",
     "output_type": "stream",
     "text": [
      "Warning message in adf.test(Payment_d1, alternative = \"stationary\"):\n",
      "\"p-value smaller than printed p-value\""
     ]
    },
    {
     "data": {
      "text/plain": [
       "\n",
       "\tAugmented Dickey-Fuller Test\n",
       "\n",
       "data:  Payment_d1\n",
       "Dickey-Fuller = -7.1988, Lag order = 8, p-value = 0.01\n",
       "alternative hypothesis: stationary\n"
      ]
     },
     "metadata": {},
     "output_type": "display_data"
    },
    {
     "data": {
      "image/png": "[encoded data removed]",
      "text/plain": [
       "plot without title"
      ]
     },
     "metadata": {},
     "output_type": "display_data"
    }
   ],
   "source": [
    "deseasonal_payment <- seasadj(decomp1)\n",
    "Payment_d1 = diff(deseasonal_payment, differences = 1)\n",
    "plot(Payment_d1)\n",
    "adf.test(Payment_d1, alternative = \"stationary\")"
   ]
  },
  {
   "cell_type": "markdown",
   "metadata": {},
   "source": [
    "Plotting after differencing with order 1 or d1"
   ]
  },
  {
   "cell_type": "code",
   "execution_count": 155,
   "metadata": {},
   "outputs": [
    {
     "data": {
      "image/png": "[encoded data removed]",
      "text/plain": [
       "Plot with title \"ACF for Differenced Series\""
      ]
     },
     "metadata": {},
     "output_type": "display_data"
    },
    {
     "data": {
      "image/png": "[encoded data removed]",
      "text/plain": [
       "Plot with title \"PACF for Differenced Series\""
      ]
     },
     "metadata": {},
     "output_type": "display_data"
    }
   ],
   "source": [
    "Acf(Payment_d1, main='ACF for Differenced Series')\n",
    "Pacf(Payment_d1, main='PACF for Differenced Series') "
   ]
  },
  {
   "cell_type": "markdown",
   "metadata": {},
   "source": [
    "Using the auto-arima for generating the order, seasonality isn't considered at themoment but will be considered later to optimize the results"
   ]
  },
  {
   "cell_type": "code",
   "execution_count": 156,
   "metadata": {},
   "outputs": [
    {
     "data": {
      "text/plain": [
       "Series: deseasonal_payment \n",
       "ARIMA(4,1,2) \n",
       "\n",
       "Coefficients:\n",
       "          ar1      ar2     ar3     ar4     ma1     ma2\n",
       "      -1.2753  -0.0787  0.6905  0.3615  1.7570  0.9600\n",
       "s.e.   0.0437   0.0590  0.0591  0.0410  0.0296  0.0294\n",
       "\n",
       "sigma^2 estimated as 850630:  log likelihood=-4888.54\n",
       "AIC=9791.07   AICc=9791.26   BIC=9821.77"
      ]
     },
     "metadata": {},
     "output_type": "display_data"
    }
   ],
   "source": [
    "auto.arima(deseasonal_payment, seasonal=FALSE)"
   ]
  },
  {
   "cell_type": "code",
   "execution_count": 157,
   "metadata": {},
   "outputs": [
    {
     "data": {
      "image/png": "[encoded data removed]",
      "text/plain": [
       "Plot with title \"\""
      ]
     },
     "metadata": {},
     "output_type": "display_data"
    }
   ],
   "source": [
    "fitting<-auto.arima(deseasonal_payment, seasonal=FALSE)\n",
    "tsdisplay(residuals(fitting), lag.max=45, main='order (1,1,1) residuals')"
   ]
  },
  {
   "cell_type": "code",
   "execution_count": 158,
   "metadata": {},
   "outputs": [
    {
     "data": {
      "image/png": "[encoded data removed]",
      "text/plain": [
       "Plot with title \"\""
      ]
     },
     "metadata": {},
     "output_type": "display_data"
    }
   ],
   "source": [
    "fitting2 = arima(deseasonal_payment, order=c(1,1,7))\n",
    "tsdisplay(residuals(fitting2), lag.max=15, main=' order (1,1,7) Residuals')"
   ]
  },
  {
   "cell_type": "code",
   "execution_count": 159,
   "metadata": {},
   "outputs": [
    {
     "data": {
      "text/plain": [
       "\n",
       "Call:\n",
       "arima(x = deseasonal_payment, order = c(1, 1, 7))\n",
       "\n",
       "Coefficients:\n",
       "          ar1     ma1     ma2     ma3     ma4     ma5     ma6      ma7\n",
       "      -0.0366  0.4661  0.4458  0.3971  0.4262  0.4137  0.4046  -0.5164\n",
       "s.e.   0.0823  0.0736  0.0647  0.0674  0.0617  0.0644  0.0658   0.0612\n",
       "\n",
       "sigma^2 estimated as 606109:  log likelihood = -4795.37,  aic = 9608.75"
      ]
     },
     "metadata": {},
     "output_type": "display_data"
    }
   ],
   "source": [
    "fitting2"
   ]
  },
  {
   "cell_type": "code",
   "execution_count": 160,
   "metadata": {},
   "outputs": [
    {
     "data": {
      "text/html": [
       "594"
      ],
      "text/latex": [
       "594"
      ],
      "text/markdown": [
       "594"
      ],
      "text/plain": [
       "[1] 594"
      ]
     },
     "metadata": {},
     "output_type": "display_data"
    }
   ],
   "source": [
    "length(deseasonal_payment)"
   ]
  },
  {
   "cell_type": "code",
   "execution_count": 161,
   "metadata": {},
   "outputs": [],
   "source": [
    "?arima"
   ]
  },
  {
   "cell_type": "code",
   "execution_count": 162,
   "metadata": {},
   "outputs": [
    {
     "data": {
      "image/png": "[encoded data removed]",
      "text/plain": [
       "Plot with title \" \""
      ]
     },
     "metadata": {},
     "output_type": "display_data"
    }
   ],
   "source": [
    "hold1 <- window(ts(deseasonal_payment), start=570)\n",
    "\n",
    "fit_no_holdout1 = arima(ts(deseasonal_payment[-c(570:600)]), order=c(1,1,7))\n",
    "\n",
    "fcast_no_holdout1 <- forecast(fit_no_holdout1,h = 30)\n",
    "plot(fcast_no_holdout1, main=\" \")\n",
    "lines(ts(deseasonal_payment))"
   ]
  },
  {
   "cell_type": "code",
   "execution_count": 169,
   "metadata": {},
   "outputs": [],
   "source": [
    "#fcast_no_holdout1"
   ]
  },
  {
   "cell_type": "markdown",
   "metadata": {},
   "source": [
    "Seasonality considered"
   ]
  },
  {
   "cell_type": "code",
   "execution_count": 165,
   "metadata": {},
   "outputs": [
    {
     "data": {
      "text/plain": [
       "Series: deseasonal_payment \n",
       "ARIMA(4,1,2)(0,0,1)[30] \n",
       "\n",
       "Coefficients:\n",
       "          ar1      ar2     ar3     ar4     ma1     ma2     sma1\n",
       "      -1.2665  -0.0892  0.6797  0.3646  1.7419  0.9478  -0.1028\n",
       "s.e.   0.0440   0.0592  0.0592  0.0409  0.0303  0.0297   0.0462\n",
       "\n",
       "sigma^2 estimated as 845150:  log likelihood=-4886.09\n",
       "AIC=9788.17   AICc=9788.42   BIC=9823.26"
      ]
     },
     "metadata": {},
     "output_type": "display_data"
    }
   ],
   "source": [
    "fit_w_seasonality1 = auto.arima(deseasonal_payment, seasonal=TRUE)\n",
    "fit_w_seasonality1"
   ]
  },
  {
   "cell_type": "code",
   "execution_count": 166,
   "metadata": {},
   "outputs": [
    {
     "data": {
      "image/png": "[encoded data removed]",
      "text/plain": [
       "Plot with title \"Forecasts from ARIMA(4,1,2)(0,0,1)[30]\""
      ]
     },
     "metadata": {},
     "output_type": "display_data"
    }
   ],
   "source": [
    "seas_fcast1 <- forecast(fit_w_seasonality1, h=15)\n",
    "plot(seas_fcast1) "
   ]
  },
  {
   "cell_type": "markdown",
   "metadata": {},
   "source": [
    "Improvement in BIC and AIC is also observed"
   ]
  },
  {
   "cell_type": "code",
   "execution_count": 168,
   "metadata": {},
   "outputs": [
    {
     "data": {
      "text/plain": [
       "Series: deseasonal_payment \n",
       "ARIMA(4,1,2)(0,0,1)[30] \n",
       "\n",
       "Coefficients:\n",
       "          ar1      ar2     ar3     ar4     ma1     ma2     sma1\n",
       "      -1.2665  -0.0892  0.6797  0.3646  1.7419  0.9478  -0.1028\n",
       "s.e.   0.0440   0.0592  0.0592  0.0409  0.0303  0.0297   0.0462\n",
       "\n",
       "sigma^2 estimated as 845150:  log likelihood=-4886.09\n",
       "AIC=9788.17   AICc=9788.42   BIC=9823.26"
      ]
     },
     "metadata": {},
     "output_type": "display_data"
    }
   ],
   "source": [
    "fit_w_seasonality1 = auto.arima(deseasonal_payment, seasonal=TRUE)\n",
    "fit_w_seasonality1"
   ]
  },
  {
   "cell_type": "markdown",
   "metadata": {},
   "source": [
    "## Factors affecting negative reviews (Cause, TIme taken for delivery)"
   ]
  },
  {
   "cell_type": "markdown",
   "metadata": {},
   "source": [
    "Importing the reviews and orders collection"
   ]
  },
  {
   "cell_type": "code",
   "execution_count": 170,
   "metadata": {},
   "outputs": [],
   "source": [
    "dmd9 = mongo(collection=\"reviews\",db=\"customer_records\",url = \"mongodb://localhost?sockettimeoutms=10000000\")"
   ]
  },
  {
   "cell_type": "code",
   "execution_count": 171,
   "metadata": {},
   "outputs": [],
   "source": [
    "dmd10 = mongo(collection=\"orders\",db=\"customer_records\",url = \"mongodb://localhost?sockettimeoutms=10000000\")"
   ]
  },
  {
   "cell_type": "code",
   "execution_count": 217,
   "metadata": {},
   "outputs": [
    {
     "data": {
      "text/html": [
       "<table>\n",
       "<thead><tr><th scope=col>review_id</th><th scope=col>order_id</th><th scope=col>review_score</th><th scope=col>review_comment_title</th><th scope=col>review_comment_message</th><th scope=col>review_creation_date</th><th scope=col>review_answer_timestamp</th></tr></thead>\n",
       "<tbody>\n",
       "\t<tr><td>7bc2406110b926393aa56f80a40eba40                                                                    </td><td>73fc7af87114b39712e6da79b0a377eb                                                                    </td><td>4                                                                                                   </td><td>                                                                                                    </td><td>                                                                                                    </td><td>2018-01-18 00:00:00                                                                                 </td><td>2018-01-18 21:46:59                                                                                 </td></tr>\n",
       "\t<tr><td>80e641a11e56f04c1ad469d5645fdfde                                                                    </td><td>a548910a1c6147796b98fdf73dbeba33                                                                    </td><td>5                                                                                                   </td><td>                                                                                                    </td><td>                                                                                                    </td><td>2018-03-10 00:00:00                                                                                 </td><td>2018-03-11 03:05:13                                                                                 </td></tr>\n",
       "\t<tr><td>228ce5500dc1d8e020d8d1322874b6f0                                                                    </td><td>f9e4b658b201a9f2ecdecbb34bed034b                                                                    </td><td>5                                                                                                   </td><td>                                                                                                    </td><td>                                                                                                    </td><td>2018-02-17 00:00:00                                                                                 </td><td>2018-02-18 14:36:24                                                                                 </td></tr>\n",
       "\t<tr><td>e64fb393e7b32834bb789ff8bb30750e                                                                    </td><td>658677c97b385a9be170737859d3511b                                                                    </td><td>5                                                                                                   </td><td>                                                                                                    </td><td>Recebi bem antes do prazo estipulado.                                                               </td><td>2017-04-21 00:00:00                                                                                 </td><td>2017-04-21 22:02:06                                                                                 </td></tr>\n",
       "\t<tr><td>f7c4243c7fe1938f181bec41a392bdeb                                                                    </td><td>8e6bfb81e283fa7e4f11123a3fb894f1                                                                    </td><td>5                                                                                                   </td><td>                                                                                                    </td><td>Parabéns lojas lannister adorei comprar pela Internet seguro e prático Parabéns a todos feliz Páscoa</td><td>2018-03-01 00:00:00                                                                                 </td><td>2018-03-02 10:26:53                                                                                 </td></tr>\n",
       "</tbody>\n",
       "</table>\n"
      ],
      "text/latex": [
       "\\begin{tabular}{r|lllllll}\n",
       " review\\_id & order\\_id & review\\_score & review\\_comment\\_title & review\\_comment\\_message & review\\_creation\\_date & review\\_answer\\_timestamp\\\\\n",
       "\\hline\n",
       "\t 7bc2406110b926393aa56f80a40eba40                                                                     & 73fc7af87114b39712e6da79b0a377eb                                                                     & 4                                                                                                    &                                                                                                      &                                                                                                      & 2018-01-18 00:00:00                                                                                  & 2018-01-18 21:46:59                                                                                 \\\\\n",
       "\t 80e641a11e56f04c1ad469d5645fdfde                                                                     & a548910a1c6147796b98fdf73dbeba33                                                                     & 5                                                                                                    &                                                                                                      &                                                                                                      & 2018-03-10 00:00:00                                                                                  & 2018-03-11 03:05:13                                                                                 \\\\\n",
       "\t 228ce5500dc1d8e020d8d1322874b6f0                                                                     & f9e4b658b201a9f2ecdecbb34bed034b                                                                     & 5                                                                                                    &                                                                                                      &                                                                                                      & 2018-02-17 00:00:00                                                                                  & 2018-02-18 14:36:24                                                                                 \\\\\n",
       "\t e64fb393e7b32834bb789ff8bb30750e                                                                     & 658677c97b385a9be170737859d3511b                                                                     & 5                                                                                                    &                                                                                                      & Recebi bem antes do prazo estipulado.                                                                & 2017-04-21 00:00:00                                                                                  & 2017-04-21 22:02:06                                                                                 \\\\\n",
       "\t f7c4243c7fe1938f181bec41a392bdeb                                                                     & 8e6bfb81e283fa7e4f11123a3fb894f1                                                                     & 5                                                                                                    &                                                                                                      & Parabéns lojas lannister adorei comprar pela Internet seguro e prático Parabéns a todos feliz Páscoa & 2018-03-01 00:00:00                                                                                  & 2018-03-02 10:26:53                                                                                 \\\\\n",
       "\\end{tabular}\n"
      ],
      "text/markdown": [
       "\n",
       "review_id | order_id | review_score | review_comment_title | review_comment_message | review_creation_date | review_answer_timestamp | \n",
       "|---|---|---|---|---|\n",
       "| 7bc2406110b926393aa56f80a40eba40                                                                     | 73fc7af87114b39712e6da79b0a377eb                                                                     | 4                                                                                                    |                                                                                                      |                                                                                                      | 2018-01-18 00:00:00                                                                                  | 2018-01-18 21:46:59                                                                                  | \n",
       "| 80e641a11e56f04c1ad469d5645fdfde                                                                     | a548910a1c6147796b98fdf73dbeba33                                                                     | 5                                                                                                    |                                                                                                      |                                                                                                      | 2018-03-10 00:00:00                                                                                  | 2018-03-11 03:05:13                                                                                  | \n",
       "| 228ce5500dc1d8e020d8d1322874b6f0                                                                     | f9e4b658b201a9f2ecdecbb34bed034b                                                                     | 5                                                                                                    |                                                                                                      |                                                                                                      | 2018-02-17 00:00:00                                                                                  | 2018-02-18 14:36:24                                                                                  | \n",
       "| e64fb393e7b32834bb789ff8bb30750e                                                                     | 658677c97b385a9be170737859d3511b                                                                     | 5                                                                                                    |                                                                                                      | Recebi bem antes do prazo estipulado.                                                                | 2017-04-21 00:00:00                                                                                  | 2017-04-21 22:02:06                                                                                  | \n",
       "| f7c4243c7fe1938f181bec41a392bdeb                                                                     | 8e6bfb81e283fa7e4f11123a3fb894f1                                                                     | 5                                                                                                    |                                                                                                      | Parabéns lojas lannister adorei comprar pela Internet seguro e prático Parabéns a todos feliz Páscoa | 2018-03-01 00:00:00                                                                                  | 2018-03-02 10:26:53                                                                                  | \n",
       "\n",
       "\n"
      ],
      "text/plain": [
       "  review_id                        order_id                        \n",
       "1 7bc2406110b926393aa56f80a40eba40 73fc7af87114b39712e6da79b0a377eb\n",
       "2 80e641a11e56f04c1ad469d5645fdfde a548910a1c6147796b98fdf73dbeba33\n",
       "3 228ce5500dc1d8e020d8d1322874b6f0 f9e4b658b201a9f2ecdecbb34bed034b\n",
       "4 e64fb393e7b32834bb789ff8bb30750e 658677c97b385a9be170737859d3511b\n",
       "5 f7c4243c7fe1938f181bec41a392bdeb 8e6bfb81e283fa7e4f11123a3fb894f1\n",
       "  review_score review_comment_title\n",
       "1 4                                \n",
       "2 5                                \n",
       "3 5                                \n",
       "4 5                                \n",
       "5 5                                \n",
       "  review_comment_message                                                                              \n",
       "1                                                                                                     \n",
       "2                                                                                                     \n",
       "3                                                                                                     \n",
       "4 Recebi bem antes do prazo estipulado.                                                               \n",
       "5 Parabéns lojas lannister adorei comprar pela Internet seguro e prático Parabéns a todos feliz Páscoa\n",
       "  review_creation_date review_answer_timestamp\n",
       "1 2018-01-18 00:00:00  2018-01-18 21:46:59    \n",
       "2 2018-03-10 00:00:00  2018-03-11 03:05:13    \n",
       "3 2018-02-17 00:00:00  2018-02-18 14:36:24    \n",
       "4 2017-04-21 00:00:00  2017-04-21 22:02:06    \n",
       "5 2018-03-01 00:00:00  2018-03-02 10:26:53    "
      ]
     },
     "metadata": {},
     "output_type": "display_data"
    }
   ],
   "source": [
    "dmd9$find('{}',limit = 5)"
   ]
  },
  {
   "cell_type": "markdown",
   "metadata": {},
   "source": [
    "Joining the two tables"
   ]
  },
  {
   "cell_type": "code",
   "execution_count": 172,
   "metadata": {},
   "outputs": [],
   "source": [
    "df4 <- dmd10$aggregate('[\n",
    "    {\n",
    "      \"$lookup\":\n",
    "        {\n",
    "          \"from\": \"reviews\",\n",
    "          \"localField\": \"order_id\",\n",
    "          \"foreignField\":\"order_id\",\n",
    "          \"as\": \"order_reviews\"\n",
    "        }\n",
    "   }\n",
    ",\n",
    "    {\n",
    "        \"$unwind\": \"$order_reviews\"\n",
    "      }\n",
    "]')"
   ]
  },
  {
   "cell_type": "code",
   "execution_count": 221,
   "metadata": {},
   "outputs": [],
   "source": []
  },
  {
   "cell_type": "markdown",
   "metadata": {},
   "source": [
    "Similar cbind function as discussed earlier"
   ]
  },
  {
   "cell_type": "code",
   "execution_count": 175,
   "metadata": {},
   "outputs": [],
   "source": [
    "df5 = cbind(df4[,1:9],df4[,10])"
   ]
  },
  {
   "cell_type": "code",
   "execution_count": 176,
   "metadata": {},
   "outputs": [
    {
     "data": {
      "text/html": [
       "<table>\n",
       "<thead><tr><th scope=col>_id</th><th scope=col>order_id</th><th scope=col>customer_id</th><th scope=col>order_status</th><th scope=col>order_purchase_timestamp</th><th scope=col>order_approved_at</th><th scope=col>order_delivered_carrier_date</th><th scope=col>order_delivered_customer_date</th><th scope=col>order_estimated_delivery_date</th><th scope=col>_id</th><th scope=col>review_id</th><th scope=col>order_id</th><th scope=col>review_score</th><th scope=col>review_comment_title</th><th scope=col>review_comment_message</th><th scope=col>review_creation_date</th><th scope=col>review_answer_timestamp</th></tr></thead>\n",
       "<tbody>\n",
       "\t<tr><td>5d85bcf362fa33c9ff7c4b84                                                                                                                                                  </td><td>e481f51cbdc54678b7cc49136f2d6af7                                                                                                                                          </td><td>9ef432eb6251297304e76186b10a928d                                                                                                                                          </td><td>delivered                                                                                                                                                                 </td><td>2017-10-02 10:56:33                                                                                                                                                       </td><td>2017-10-02 11:07:15                                                                                                                                                       </td><td>2017-10-04 19:55:00                                                                                                                                                       </td><td>2017-10-10 21:25:13                                                                                                                                                       </td><td>2017-10-18 00:00:00                                                                                                                                                       </td><td>5dabd7002bac5afacd1eb00a                                                                                                                                                  </td><td>a54f0611adc9ed256b57ede6b6eb5114                                                                                                                                          </td><td>e481f51cbdc54678b7cc49136f2d6af7                                                                                                                                          </td><td>4                                                                                                                                                                         </td><td>                                                                                                                                                                          </td><td>Não testei o produto ainda, mas ele veio correto e em boas condições. Apenas a caixa que veio bem amassada e danificada, o que ficará chato, pois se trata de um presente.</td><td>2017-10-11 00:00:00                                                                                                                                                       </td><td>2017-10-12 03:43:48                                                                                                                                                       </td></tr>\n",
       "\t<tr><td>5d85bcf362fa33c9ff7c4b85                                                                                                                                                  </td><td>47770eb9100c2d0c44946d9cf07ec65d                                                                                                                                          </td><td>41ce2a54c0b03bf3443c3d931a367089                                                                                                                                          </td><td>delivered                                                                                                                                                                 </td><td>2018-08-08 08:38:49                                                                                                                                                       </td><td>2018-08-08 08:55:23                                                                                                                                                       </td><td>2018-08-08 13:50:00                                                                                                                                                       </td><td>2018-08-17 18:06:29                                                                                                                                                       </td><td>2018-09-04 00:00:00                                                                                                                                                       </td><td>5dabd6ff2bac5afacd1e4006                                                                                                                                                  </td><td>e73b67b67587f7644d5bd1a52deb1b01                                                                                                                                          </td><td>47770eb9100c2d0c44946d9cf07ec65d                                                                                                                                          </td><td>5                                                                                                                                                                         </td><td>                                                                                                                                                                          </td><td>                                                                                                                                                                          </td><td>2018-08-18 00:00:00                                                                                                                                                       </td><td>2018-08-22 19:07:58                                                                                                                                                       </td></tr>\n",
       "\t<tr><td>5d85bcf362fa33c9ff7c4b86                                                                                                                                                  </td><td>949d5b44dbf5de918fe9c16f97b45f8a                                                                                                                                          </td><td>f88197465ea7920adcdbec7375364d82                                                                                                                                          </td><td>delivered                                                                                                                                                                 </td><td>2017-11-18 19:28:06                                                                                                                                                       </td><td>2017-11-18 19:45:59                                                                                                                                                       </td><td>2017-11-22 13:39:59                                                                                                                                                       </td><td>2017-12-02 00:28:42                                                                                                                                                       </td><td>2017-12-15 00:00:00                                                                                                                                                       </td><td>5dabd7012bac5afacd1f6048                                                                                                                                                  </td><td>359d03e676b3c069f62cadba8dd3f6e8                                                                                                                                          </td><td>949d5b44dbf5de918fe9c16f97b45f8a                                                                                                                                          </td><td>5                                                                                                                                                                         </td><td>                                                                                                                                                                          </td><td>O produto foi exatamente o que eu esperava e estava descrito no site e chegou bem antes da data prevista.                                                                 </td><td>2017-12-03 00:00:00                                                                                                                                                       </td><td>2017-12-05 19:21:58                                                                                                                                                       </td></tr>\n",
       "\t<tr><td>5d85bcf362fa33c9ff7c4b87                                                                                                                                                  </td><td>a4591c265e18cb1dcee52889e2d8acc3                                                                                                                                          </td><td>503740e9ca751ccdda7ba28e9ab8f608                                                                                                                                          </td><td>delivered                                                                                                                                                                 </td><td>2017-07-09 21:57:05                                                                                                                                                       </td><td>2017-07-09 22:10:13                                                                                                                                                       </td><td>2017-07-11 14:58:04                                                                                                                                                       </td><td>2017-07-26 10:57:55                                                                                                                                                       </td><td>2017-08-01 00:00:00                                                                                                                                                       </td><td>5dabd7012bac5afacd1fa34e                                                                                                                                                  </td><td>89b738e70a1ce346db29a20fb2910161                                                                                                                                          </td><td>a4591c265e18cb1dcee52889e2d8acc3                                                                                                                                          </td><td>4                                                                                                                                                                         </td><td>                                                                                                                                                                          </td><td>                                                                                                                                                                          </td><td>2017-07-27 00:00:00                                                                                                                                                       </td><td>2017-07-27 22:48:30                                                                                                                                                       </td></tr>\n",
       "\t<tr><td>5d85bcf362fa33c9ff7c4b88                                                                                                                                                  </td><td>ad21c59c0840e6cb83a9ceb5573f8159                                                                                                                                          </td><td>8ab97904e6daea8866dbdbc4fb7aad2c                                                                                                                                          </td><td>delivered                                                                                                                                                                 </td><td>2018-02-13 21:18:39                                                                                                                                                       </td><td>2018-02-13 22:20:29                                                                                                                                                       </td><td>2018-02-14 19:46:34                                                                                                                                                       </td><td>2018-02-16 18:17:02                                                                                                                                                       </td><td>2018-02-26 00:00:00                                                                                                                                                       </td><td>5dabd7002bac5afacd1f042a                                                                                                                                                  </td><td>e50934924e227544ba8246aeb3770dd4                                                                                                                                          </td><td>ad21c59c0840e6cb83a9ceb5573f8159                                                                                                                                          </td><td>5                                                                                                                                                                         </td><td>                                                                                                                                                                          </td><td>                                                                                                                                                                          </td><td>2018-02-17 00:00:00                                                                                                                                                       </td><td>2018-02-18 13:02:51                                                                                                                                                       </td></tr>\n",
       "\t<tr><td>5d85bcf362fa33c9ff7c4b89                                                                                                                                                  </td><td>6514b8ad8028c9f2cc2374ded245783f                                                                                                                                          </td><td>9bdf08b4b3b52b5526ff42d37d47f222                                                                                                                                          </td><td>delivered                                                                                                                                                                 </td><td>2017-05-16 13:10:30                                                                                                                                                       </td><td>2017-05-16 13:22:11                                                                                                                                                       </td><td>2017-05-22 10:07:46                                                                                                                                                       </td><td>2017-05-26 12:55:51                                                                                                                                                       </td><td>2017-06-07 00:00:00                                                                                                                                                       </td><td>5dabd7002bac5afacd1eb26e                                                                                                                                                  </td><td>07d67dd06ed5f88bef11ef6b464e79ae                                                                                                                                          </td><td>6514b8ad8028c9f2cc2374ded245783f                                                                                                                                          </td><td>5                                                                                                                                                                         </td><td>                                                                                                                                                                          </td><td>                                                                                                                                                                          </td><td>2017-05-27 00:00:00                                                                                                                                                       </td><td>2017-05-28 02:59:57                                                                                                                                                       </td></tr>\n",
       "</tbody>\n",
       "</table>\n"
      ],
      "text/latex": [
       "\\begin{tabular}{r|lllllllllllllllll}\n",
       " \\_id & order\\_id & customer\\_id & order\\_status & order\\_purchase\\_timestamp & order\\_approved\\_at & order\\_delivered\\_carrier\\_date & order\\_delivered\\_customer\\_date & order\\_estimated\\_delivery\\_date & \\_id & review\\_id & order\\_id & review\\_score & review\\_comment\\_title & review\\_comment\\_message & review\\_creation\\_date & review\\_answer\\_timestamp\\\\\n",
       "\\hline\n",
       "\t 5d85bcf362fa33c9ff7c4b84                                                                                                                                                   & e481f51cbdc54678b7cc49136f2d6af7                                                                                                                                           & 9ef432eb6251297304e76186b10a928d                                                                                                                                           & delivered                                                                                                                                                                  & 2017-10-02 10:56:33                                                                                                                                                        & 2017-10-02 11:07:15                                                                                                                                                        & 2017-10-04 19:55:00                                                                                                                                                        & 2017-10-10 21:25:13                                                                                                                                                        & 2017-10-18 00:00:00                                                                                                                                                        & 5dabd7002bac5afacd1eb00a                                                                                                                                                   & a54f0611adc9ed256b57ede6b6eb5114                                                                                                                                           & e481f51cbdc54678b7cc49136f2d6af7                                                                                                                                           & 4                                                                                                                                                                          &                                                                                                                                                                            & Não testei o produto ainda, mas ele veio correto e em boas condições. Apenas a caixa que veio bem amassada e danificada, o que ficará chato, pois se trata de um presente. & 2017-10-11 00:00:00                                                                                                                                                        & 2017-10-12 03:43:48                                                                                                                                                       \\\\\n",
       "\t 5d85bcf362fa33c9ff7c4b85                                                                                                                                                   & 47770eb9100c2d0c44946d9cf07ec65d                                                                                                                                           & 41ce2a54c0b03bf3443c3d931a367089                                                                                                                                           & delivered                                                                                                                                                                  & 2018-08-08 08:38:49                                                                                                                                                        & 2018-08-08 08:55:23                                                                                                                                                        & 2018-08-08 13:50:00                                                                                                                                                        & 2018-08-17 18:06:29                                                                                                                                                        & 2018-09-04 00:00:00                                                                                                                                                        & 5dabd6ff2bac5afacd1e4006                                                                                                                                                   & e73b67b67587f7644d5bd1a52deb1b01                                                                                                                                           & 47770eb9100c2d0c44946d9cf07ec65d                                                                                                                                           & 5                                                                                                                                                                          &                                                                                                                                                                            &                                                                                                                                                                            & 2018-08-18 00:00:00                                                                                                                                                        & 2018-08-22 19:07:58                                                                                                                                                       \\\\\n",
       "\t 5d85bcf362fa33c9ff7c4b86                                                                                                                                                   & 949d5b44dbf5de918fe9c16f97b45f8a                                                                                                                                           & f88197465ea7920adcdbec7375364d82                                                                                                                                           & delivered                                                                                                                                                                  & 2017-11-18 19:28:06                                                                                                                                                        & 2017-11-18 19:45:59                                                                                                                                                        & 2017-11-22 13:39:59                                                                                                                                                        & 2017-12-02 00:28:42                                                                                                                                                        & 2017-12-15 00:00:00                                                                                                                                                        & 5dabd7012bac5afacd1f6048                                                                                                                                                   & 359d03e676b3c069f62cadba8dd3f6e8                                                                                                                                           & 949d5b44dbf5de918fe9c16f97b45f8a                                                                                                                                           & 5                                                                                                                                                                          &                                                                                                                                                                            & O produto foi exatamente o que eu esperava e estava descrito no site e chegou bem antes da data prevista.                                                                  & 2017-12-03 00:00:00                                                                                                                                                        & 2017-12-05 19:21:58                                                                                                                                                       \\\\\n",
       "\t 5d85bcf362fa33c9ff7c4b87                                                                                                                                                   & a4591c265e18cb1dcee52889e2d8acc3                                                                                                                                           & 503740e9ca751ccdda7ba28e9ab8f608                                                                                                                                           & delivered                                                                                                                                                                  & 2017-07-09 21:57:05                                                                                                                                                        & 2017-07-09 22:10:13                                                                                                                                                        & 2017-07-11 14:58:04                                                                                                                                                        & 2017-07-26 10:57:55                                                                                                                                                        & 2017-08-01 00:00:00                                                                                                                                                        & 5dabd7012bac5afacd1fa34e                                                                                                                                                   & 89b738e70a1ce346db29a20fb2910161                                                                                                                                           & a4591c265e18cb1dcee52889e2d8acc3                                                                                                                                           & 4                                                                                                                                                                          &                                                                                                                                                                            &                                                                                                                                                                            & 2017-07-27 00:00:00                                                                                                                                                        & 2017-07-27 22:48:30                                                                                                                                                       \\\\\n",
       "\t 5d85bcf362fa33c9ff7c4b88                                                                                                                                                   & ad21c59c0840e6cb83a9ceb5573f8159                                                                                                                                           & 8ab97904e6daea8866dbdbc4fb7aad2c                                                                                                                                           & delivered                                                                                                                                                                  & 2018-02-13 21:18:39                                                                                                                                                        & 2018-02-13 22:20:29                                                                                                                                                        & 2018-02-14 19:46:34                                                                                                                                                        & 2018-02-16 18:17:02                                                                                                                                                        & 2018-02-26 00:00:00                                                                                                                                                        & 5dabd7002bac5afacd1f042a                                                                                                                                                   & e50934924e227544ba8246aeb3770dd4                                                                                                                                           & ad21c59c0840e6cb83a9ceb5573f8159                                                                                                                                           & 5                                                                                                                                                                          &                                                                                                                                                                            &                                                                                                                                                                            & 2018-02-17 00:00:00                                                                                                                                                        & 2018-02-18 13:02:51                                                                                                                                                       \\\\\n",
       "\t 5d85bcf362fa33c9ff7c4b89                                                                                                                                                   & 6514b8ad8028c9f2cc2374ded245783f                                                                                                                                           & 9bdf08b4b3b52b5526ff42d37d47f222                                                                                                                                           & delivered                                                                                                                                                                  & 2017-05-16 13:10:30                                                                                                                                                        & 2017-05-16 13:22:11                                                                                                                                                        & 2017-05-22 10:07:46                                                                                                                                                        & 2017-05-26 12:55:51                                                                                                                                                        & 2017-06-07 00:00:00                                                                                                                                                        & 5dabd7002bac5afacd1eb26e                                                                                                                                                   & 07d67dd06ed5f88bef11ef6b464e79ae                                                                                                                                           & 6514b8ad8028c9f2cc2374ded245783f                                                                                                                                           & 5                                                                                                                                                                          &                                                                                                                                                                            &                                                                                                                                                                            & 2017-05-27 00:00:00                                                                                                                                                        & 2017-05-28 02:59:57                                                                                                                                                       \\\\\n",
       "\\end{tabular}\n"
      ],
      "text/markdown": [
       "\n",
       "_id | order_id | customer_id | order_status | order_purchase_timestamp | order_approved_at | order_delivered_carrier_date | order_delivered_customer_date | order_estimated_delivery_date | _id | review_id | order_id | review_score | review_comment_title | review_comment_message | review_creation_date | review_answer_timestamp | \n",
       "|---|---|---|---|---|---|\n",
       "| 5d85bcf362fa33c9ff7c4b84                                                                                                                                                   | e481f51cbdc54678b7cc49136f2d6af7                                                                                                                                           | 9ef432eb6251297304e76186b10a928d                                                                                                                                           | delivered                                                                                                                                                                  | 2017-10-02 10:56:33                                                                                                                                                        | 2017-10-02 11:07:15                                                                                                                                                        | 2017-10-04 19:55:00                                                                                                                                                        | 2017-10-10 21:25:13                                                                                                                                                        | 2017-10-18 00:00:00                                                                                                                                                        | 5dabd7002bac5afacd1eb00a                                                                                                                                                   | a54f0611adc9ed256b57ede6b6eb5114                                                                                                                                           | e481f51cbdc54678b7cc49136f2d6af7                                                                                                                                           | 4                                                                                                                                                                          |                                                                                                                                                                            | Não testei o produto ainda, mas ele veio correto e em boas condições. Apenas a caixa que veio bem amassada e danificada, o que ficará chato, pois se trata de um presente. | 2017-10-11 00:00:00                                                                                                                                                        | 2017-10-12 03:43:48                                                                                                                                                        | \n",
       "| 5d85bcf362fa33c9ff7c4b85                                                                                                                                                   | 47770eb9100c2d0c44946d9cf07ec65d                                                                                                                                           | 41ce2a54c0b03bf3443c3d931a367089                                                                                                                                           | delivered                                                                                                                                                                  | 2018-08-08 08:38:49                                                                                                                                                        | 2018-08-08 08:55:23                                                                                                                                                        | 2018-08-08 13:50:00                                                                                                                                                        | 2018-08-17 18:06:29                                                                                                                                                        | 2018-09-04 00:00:00                                                                                                                                                        | 5dabd6ff2bac5afacd1e4006                                                                                                                                                   | e73b67b67587f7644d5bd1a52deb1b01                                                                                                                                           | 47770eb9100c2d0c44946d9cf07ec65d                                                                                                                                           | 5                                                                                                                                                                          |                                                                                                                                                                            |                                                                                                                                                                            | 2018-08-18 00:00:00                                                                                                                                                        | 2018-08-22 19:07:58                                                                                                                                                        | \n",
       "| 5d85bcf362fa33c9ff7c4b86                                                                                                                                                   | 949d5b44dbf5de918fe9c16f97b45f8a                                                                                                                                           | f88197465ea7920adcdbec7375364d82                                                                                                                                           | delivered                                                                                                                                                                  | 2017-11-18 19:28:06                                                                                                                                                        | 2017-11-18 19:45:59                                                                                                                                                        | 2017-11-22 13:39:59                                                                                                                                                        | 2017-12-02 00:28:42                                                                                                                                                        | 2017-12-15 00:00:00                                                                                                                                                        | 5dabd7012bac5afacd1f6048                                                                                                                                                   | 359d03e676b3c069f62cadba8dd3f6e8                                                                                                                                           | 949d5b44dbf5de918fe9c16f97b45f8a                                                                                                                                           | 5                                                                                                                                                                          |                                                                                                                                                                            | O produto foi exatamente o que eu esperava e estava descrito no site e chegou bem antes da data prevista.                                                                  | 2017-12-03 00:00:00                                                                                                                                                        | 2017-12-05 19:21:58                                                                                                                                                        | \n",
       "| 5d85bcf362fa33c9ff7c4b87                                                                                                                                                   | a4591c265e18cb1dcee52889e2d8acc3                                                                                                                                           | 503740e9ca751ccdda7ba28e9ab8f608                                                                                                                                           | delivered                                                                                                                                                                  | 2017-07-09 21:57:05                                                                                                                                                        | 2017-07-09 22:10:13                                                                                                                                                        | 2017-07-11 14:58:04                                                                                                                                                        | 2017-07-26 10:57:55                                                                                                                                                        | 2017-08-01 00:00:00                                                                                                                                                        | 5dabd7012bac5afacd1fa34e                                                                                                                                                   | 89b738e70a1ce346db29a20fb2910161                                                                                                                                           | a4591c265e18cb1dcee52889e2d8acc3                                                                                                                                           | 4                                                                                                                                                                          |                                                                                                                                                                            |                                                                                                                                                                            | 2017-07-27 00:00:00                                                                                                                                                        | 2017-07-27 22:48:30                                                                                                                                                        | \n",
       "| 5d85bcf362fa33c9ff7c4b88                                                                                                                                                   | ad21c59c0840e6cb83a9ceb5573f8159                                                                                                                                           | 8ab97904e6daea8866dbdbc4fb7aad2c                                                                                                                                           | delivered                                                                                                                                                                  | 2018-02-13 21:18:39                                                                                                                                                        | 2018-02-13 22:20:29                                                                                                                                                        | 2018-02-14 19:46:34                                                                                                                                                        | 2018-02-16 18:17:02                                                                                                                                                        | 2018-02-26 00:00:00                                                                                                                                                        | 5dabd7002bac5afacd1f042a                                                                                                                                                   | e50934924e227544ba8246aeb3770dd4                                                                                                                                           | ad21c59c0840e6cb83a9ceb5573f8159                                                                                                                                           | 5                                                                                                                                                                          |                                                                                                                                                                            |                                                                                                                                                                            | 2018-02-17 00:00:00                                                                                                                                                        | 2018-02-18 13:02:51                                                                                                                                                        | \n",
       "| 5d85bcf362fa33c9ff7c4b89                                                                                                                                                   | 6514b8ad8028c9f2cc2374ded245783f                                                                                                                                           | 9bdf08b4b3b52b5526ff42d37d47f222                                                                                                                                           | delivered                                                                                                                                                                  | 2017-05-16 13:10:30                                                                                                                                                        | 2017-05-16 13:22:11                                                                                                                                                        | 2017-05-22 10:07:46                                                                                                                                                        | 2017-05-26 12:55:51                                                                                                                                                        | 2017-06-07 00:00:00                                                                                                                                                        | 5dabd7002bac5afacd1eb26e                                                                                                                                                   | 07d67dd06ed5f88bef11ef6b464e79ae                                                                                                                                           | 6514b8ad8028c9f2cc2374ded245783f                                                                                                                                           | 5                                                                                                                                                                          |                                                                                                                                                                            |                                                                                                                                                                            | 2017-05-27 00:00:00                                                                                                                                                        | 2017-05-28 02:59:57                                                                                                                                                        | \n",
       "\n",
       "\n"
      ],
      "text/plain": [
       "  _id                      order_id                        \n",
       "1 5d85bcf362fa33c9ff7c4b84 e481f51cbdc54678b7cc49136f2d6af7\n",
       "2 5d85bcf362fa33c9ff7c4b85 47770eb9100c2d0c44946d9cf07ec65d\n",
       "3 5d85bcf362fa33c9ff7c4b86 949d5b44dbf5de918fe9c16f97b45f8a\n",
       "4 5d85bcf362fa33c9ff7c4b87 a4591c265e18cb1dcee52889e2d8acc3\n",
       "5 5d85bcf362fa33c9ff7c4b88 ad21c59c0840e6cb83a9ceb5573f8159\n",
       "6 5d85bcf362fa33c9ff7c4b89 6514b8ad8028c9f2cc2374ded245783f\n",
       "  customer_id                      order_status order_purchase_timestamp\n",
       "1 9ef432eb6251297304e76186b10a928d delivered    2017-10-02 10:56:33     \n",
       "2 41ce2a54c0b03bf3443c3d931a367089 delivered    2018-08-08 08:38:49     \n",
       "3 f88197465ea7920adcdbec7375364d82 delivered    2017-11-18 19:28:06     \n",
       "4 503740e9ca751ccdda7ba28e9ab8f608 delivered    2017-07-09 21:57:05     \n",
       "5 8ab97904e6daea8866dbdbc4fb7aad2c delivered    2018-02-13 21:18:39     \n",
       "6 9bdf08b4b3b52b5526ff42d37d47f222 delivered    2017-05-16 13:10:30     \n",
       "  order_approved_at   order_delivered_carrier_date\n",
       "1 2017-10-02 11:07:15 2017-10-04 19:55:00         \n",
       "2 2018-08-08 08:55:23 2018-08-08 13:50:00         \n",
       "3 2017-11-18 19:45:59 2017-11-22 13:39:59         \n",
       "4 2017-07-09 22:10:13 2017-07-11 14:58:04         \n",
       "5 2018-02-13 22:20:29 2018-02-14 19:46:34         \n",
       "6 2017-05-16 13:22:11 2017-05-22 10:07:46         \n",
       "  order_delivered_customer_date order_estimated_delivery_date\n",
       "1 2017-10-10 21:25:13           2017-10-18 00:00:00          \n",
       "2 2018-08-17 18:06:29           2018-09-04 00:00:00          \n",
       "3 2017-12-02 00:28:42           2017-12-15 00:00:00          \n",
       "4 2017-07-26 10:57:55           2017-08-01 00:00:00          \n",
       "5 2018-02-16 18:17:02           2018-02-26 00:00:00          \n",
       "6 2017-05-26 12:55:51           2017-06-07 00:00:00          \n",
       "  _id                      review_id                       \n",
       "1 5dabd7002bac5afacd1eb00a a54f0611adc9ed256b57ede6b6eb5114\n",
       "2 5dabd6ff2bac5afacd1e4006 e73b67b67587f7644d5bd1a52deb1b01\n",
       "3 5dabd7012bac5afacd1f6048 359d03e676b3c069f62cadba8dd3f6e8\n",
       "4 5dabd7012bac5afacd1fa34e 89b738e70a1ce346db29a20fb2910161\n",
       "5 5dabd7002bac5afacd1f042a e50934924e227544ba8246aeb3770dd4\n",
       "6 5dabd7002bac5afacd1eb26e 07d67dd06ed5f88bef11ef6b464e79ae\n",
       "  order_id                         review_score review_comment_title\n",
       "1 e481f51cbdc54678b7cc49136f2d6af7 4                                \n",
       "2 47770eb9100c2d0c44946d9cf07ec65d 5                                \n",
       "3 949d5b44dbf5de918fe9c16f97b45f8a 5                                \n",
       "4 a4591c265e18cb1dcee52889e2d8acc3 4                                \n",
       "5 ad21c59c0840e6cb83a9ceb5573f8159 5                                \n",
       "6 6514b8ad8028c9f2cc2374ded245783f 5                                \n",
       "  review_comment_message                                                                                                                                                    \n",
       "1 Não testei o produto ainda, mas ele veio correto e em boas condições. Apenas a caixa que veio bem amassada e danificada, o que ficará chato, pois se trata de um presente.\n",
       "2                                                                                                                                                                           \n",
       "3 O produto foi exatamente o que eu esperava e estava descrito no site e chegou bem antes da data prevista.                                                                 \n",
       "4                                                                                                                                                                           \n",
       "5                                                                                                                                                                           \n",
       "6                                                                                                                                                                           \n",
       "  review_creation_date review_answer_timestamp\n",
       "1 2017-10-11 00:00:00  2017-10-12 03:43:48    \n",
       "2 2018-08-18 00:00:00  2018-08-22 19:07:58    \n",
       "3 2017-12-03 00:00:00  2017-12-05 19:21:58    \n",
       "4 2017-07-27 00:00:00  2017-07-27 22:48:30    \n",
       "5 2018-02-17 00:00:00  2018-02-18 13:02:51    \n",
       "6 2017-05-27 00:00:00  2017-05-28 02:59:57    "
      ]
     },
     "metadata": {},
     "output_type": "display_data"
    }
   ],
   "source": [
    "head(df5)"
   ]
  },
  {
   "cell_type": "code",
   "execution_count": 177,
   "metadata": {},
   "outputs": [],
   "source": [
    "df5 <- df5[,-c(1,10,12)]"
   ]
  },
  {
   "cell_type": "markdown",
   "metadata": {},
   "source": [
    "Generating new features by \n",
    "\n",
    "1. First converting them to datetime\n",
    "\n",
    "2. Taking the difference "
   ]
  },
  {
   "cell_type": "code",
   "execution_count": 178,
   "metadata": {},
   "outputs": [],
   "source": [
    "#df5$order_purchase_timestamp <- as.POSIXct(df5$order_purchase_timestamp, format='%Y-%m-%d %H:%M:%S')\n",
    "df5$order_approved_at <- as.POSIXct(df5$order_approved_at, format='%Y-%m-%d %H:%M:%S')\n",
    "df5$order_delivered_carrier_date <- as.POSIXct(df5$order_delivered_carrier_date, format='%Y-%m-%d %H:%M:%S')\n",
    "df5$order_delivered_customer_date <- as.POSIXct(df5$order_delivered_customer_date, format='%Y-%m-%d %H:%M:%S')\n",
    "df5$order_estimated_delivery_date <- as.POSIXct(df5$order_estimated_delivery_date, format='%Y-%m-%d %H:%M:%S')"
   ]
  },
  {
   "cell_type": "code",
   "execution_count": 180,
   "metadata": {},
   "outputs": [
    {
     "data": {
      "text/plain": [
       "Time difference of 61.83333 mins"
      ]
     },
     "metadata": {},
     "output_type": "display_data"
    }
   ],
   "source": [
    "difftime(df5[5,5],df5[5,4],units=\"mins\")    # sample"
   ]
  },
  {
   "cell_type": "markdown",
   "metadata": {},
   "source": [
    "New features"
   ]
  },
  {
   "cell_type": "code",
   "execution_count": 185,
   "metadata": {},
   "outputs": [],
   "source": [
    "df5$time_to_approve <- as.integer(difftime(df5$order_approved_at,df5$order_purchase_timestamp,units=\"mins\"))\n",
    "df5$time_to_deliver <- as.integer(difftime(df5$order_delivered_customer_date,df5$order_purchase_timestamp,units=\"mins\"))\n",
    "df5$diff_estimated_actual_delivery_date <- as.integer(difftime(df5$order_delivered_customer_date,df5$order_estimated_delivery_date,units=\"mins\"))"
   ]
  },
  {
   "cell_type": "markdown",
   "metadata": {},
   "source": [
    "Shows weak corellation"
   ]
  },
  {
   "cell_type": "code",
   "execution_count": 187,
   "metadata": {},
   "outputs": [
    {
     "data": {
      "text/html": [
       "-0.334897730093656"
      ],
      "text/latex": [
       "-0.334897730093656"
      ],
      "text/markdown": [
       "-0.334897730093656"
      ],
      "text/plain": [
       "[1] -0.3348977"
      ]
     },
     "metadata": {},
     "output_type": "display_data"
    }
   ],
   "source": [
    "cor(df5$time_to_deliver,df5$review_score,use = \"complete.obs\")"
   ]
  },
  {
   "cell_type": "code",
   "execution_count": 189,
   "metadata": {},
   "outputs": [],
   "source": [
    "#str(df5)"
   ]
  },
  {
   "cell_type": "code",
   "execution_count": 190,
   "metadata": {},
   "outputs": [
    {
     "data": {
      "text/plain": [
       "   Min. 1st Qu.  Median    Mean 3rd Qu.    Max.    NA's \n",
       "    768    9751   14727   18095   22656  301925    2987 "
      ]
     },
     "metadata": {},
     "output_type": "display_data"
    }
   ],
   "source": [
    "summary(df5$time_to_deliver)"
   ]
  },
  {
   "cell_type": "markdown",
   "metadata": {},
   "source": [
    "Selecting only the rows with review score as 1 and also has a comment"
   ]
  },
  {
   "cell_type": "code",
   "execution_count": 193,
   "metadata": {},
   "outputs": [],
   "source": [
    "x = subset(df5,df5[,10] == 1 & nchar(df5[,12]) > 0)"
   ]
  },
  {
   "cell_type": "code",
   "execution_count": 194,
   "metadata": {},
   "outputs": [
    {
     "data": {
      "text/html": [
       "9179"
      ],
      "text/latex": [
       "9179"
      ],
      "text/markdown": [
       "9179"
      ],
      "text/plain": [
       "[1] 9179"
      ]
     },
     "metadata": {},
     "output_type": "display_data"
    }
   ],
   "source": [
    "nrow(x)"
   ]
  },
  {
   "cell_type": "code",
   "execution_count": 195,
   "metadata": {},
   "outputs": [
    {
     "data": {
      "text/html": [
       "<table>\n",
       "<thead><tr><th></th><th scope=col>order_id</th><th scope=col>customer_id</th><th scope=col>order_status</th><th scope=col>order_purchase_timestamp</th><th scope=col>order_approved_at</th><th scope=col>order_delivered_carrier_date</th><th scope=col>order_delivered_customer_date</th><th scope=col>order_estimated_delivery_date</th><th scope=col>review_id</th><th scope=col>review_score</th><th scope=col>review_comment_title</th><th scope=col>review_comment_message</th><th scope=col>review_creation_date</th><th scope=col>review_answer_timestamp</th><th scope=col>diff_estimated_actual_delivery_date</th><th scope=col>time_to_approve</th><th scope=col>time_to_deliver</th></tr></thead>\n",
       "<tbody>\n",
       "\t<tr><th scope=row>11</th><td>e6ce16cb79ec1d90b1da9085a6118aeb                                                                                                                                                                        </td><td>494dded5b201313c64ed7f100595b95c                                                                                                                                                                        </td><td>delivered                                                                                                                                                                                               </td><td>2017-05-16 19:41:10                                                                                                                                                                                     </td><td>2017-05-16 19:50:18                                                                                                                                                                                     </td><td>2017-05-18 11:40:40                                                                                                                                                                                     </td><td>2017-05-29 11:18:31                                                                                                                                                                                     </td><td>2017-06-07                                                                                                                                                                                              </td><td>15898b543726a832d4137fbef5d1d00e                                                                                                                                                                        </td><td>1                                                                                                                                                                                                       </td><td>                                                                                                                                                                                                        </td><td>Aguardando retorno da loja                                                                                                                                                                              </td><td>2017-05-30 00:00:00                                                                                                                                                                                     </td><td>2017-05-30 23:13:47                                                                                                                                                                                     </td><td>-12281                                                                                                                                                                                                  </td><td>   9                                                                                                                                                                                                    </td><td>18217                                                                                                                                                                                                   </td></tr>\n",
       "\t<tr><th scope=row>27</th><td>acce194856392f074dbf9dada14d8d82                                                                                                                                                                        </td><td>7e20bf5ca92da68200643bda76c504c6                                                                                                                                                                        </td><td>delivered                                                                                                                                                                                               </td><td>2018-06-04 00:00:13                                                                                                                                                                                     </td><td>2018-06-05 00:35:10                                                                                                                                                                                     </td><td>2018-06-05 13:24:00                                                                                                                                                                                     </td><td>2018-06-16 15:20:55                                                                                                                                                                                     </td><td>2018-07-18                                                                                                                                                                                              </td><td>2d4303fd561eb4ab51c87faa6598dc10                                                                                                                                                                        </td><td>1                                                                                                                                                                                                       </td><td>NÃO RECOMENDO!!!!                                                                                                                                                                                       </td><td>Até o momento não recebi o produto Protetor De Colchão Para Berço - Algodão Impermeável, já fiz a reclamação desde o dia 18/06 e ainda não obtive retorno. Irei cancelar o pedido e estornar a compra hj</td><td>2018-06-17 00:00:00                                                                                                                                                                                     </td><td>2018-06-20 11:38:22                                                                                                                                                                                     </td><td>-45159                                                                                                                                                                                                  </td><td>1474                                                                                                                                                                                                    </td><td>18200                                                                                                                                                                                                   </td></tr>\n",
       "\t<tr><th scope=row>32</th><td>1790eea0b567cf50911c057cf20f90f9                                                                                                                                                                        </td><td>52142aa69d8d0e1247ab0cada0f76023                                                                                                                                                                        </td><td>delivered                                                                                                                                                                                               </td><td>2018-04-16 21:15:39                                                                                                                                                                                     </td><td>2018-04-16 22:10:26                                                                                                                                                                                     </td><td>2018-04-18 13:05:09                                                                                                                                                                                     </td><td>2018-05-05 12:28:34                                                                                                                                                                                     </td><td>2018-05-15                                                                                                                                                                                              </td><td>764c587207b9589949abd863bdb72dec                                                                                                                                                                        </td><td>1                                                                                                                                                                                                       </td><td>Enganadores                                                                                                                                                                                             </td><td>Foi entregue um produto divergente do que eu havia comprado, além de não vir com todos os acessórios constantes na descrição do anuncio. Solicito providências urgentes.                                </td><td>2018-05-06 00:00:00                                                                                                                                                                                     </td><td>2018-05-08 23:47:22                                                                                                                                                                                     </td><td>-13651                                                                                                                                                                                                  </td><td>  54                                                                                                                                                                                                    </td><td>26832                                                                                                                                                                                                   </td></tr>\n",
       "\t<tr><th scope=row>41</th><td>6ea2f835b4556291ffdc53fa0b3b95e8                                                                                                                                                                        </td><td>c7340080e394356141681bd4c9b8fe31                                                                                                                                                                        </td><td>delivered                                                                                                                                                                                               </td><td>2017-11-24 21:27:48                                                                                                                                                                                     </td><td>2017-11-25 00:21:09                                                                                                                                                                                     </td><td>2017-12-13 21:14:05                                                                                                                                                                                     </td><td>2017-12-28 18:59:23                                                                                                                                                                                     </td><td>2017-12-21                                                                                                                                                                                              </td><td>5caca29ffffe9086162ca51303817420                                                                                                                                                                        </td><td>1                                                                                                                                                                                                       </td><td>                                                                                                                                                                                                        </td><td>Inicialmente, na data da compra o produto era para ser entregue até 21/12. Hoje é dia 27/12 e não chegou ainda.                                                                                         </td><td>2017-12-22 00:00:00                                                                                                                                                                                     </td><td>2017-12-28 11:25:32                                                                                                                                                                                     </td><td> 11219                                                                                                                                                                                                  </td><td> 173                                                                                                                                                                                                    </td><td>48811                                                                                                                                                                                                   </td></tr>\n",
       "\t<tr><th scope=row>45</th><td>6ebaec694d7025e2ad4a05dba887c032                                                                                                                                                                        </td><td>4f28355e5c17a4a42d3ce2439a1d4501                                                                                                                                                                        </td><td>delivered                                                                                                                                                                                               </td><td>2017-05-18 13:55:47                                                                                                                                                                                     </td><td>2017-05-18 14:05:17                                                                                                                                                                                     </td><td>2017-05-19 12:01:38                                                                                                                                                                                     </td><td>2017-05-29 12:47:20                                                                                                                                                                                     </td><td>2017-06-09                                                                                                                                                                                              </td><td>590aec3016a098ad236fc59459173f33                                                                                                                                                                        </td><td>1                                                                                                                                                                                                       </td><td>                                                                                                                                                                                                        </td><td>A cuba veio quebrada. Como efetuo barroca?                                                                                                                                                              </td><td>2017-05-30 00:00:00                                                                                                                                                                                     </td><td>2017-05-31 13:34:59                                                                                                                                                                                     </td><td>-15072                                                                                                                                                                                                  </td><td>   9                                                                                                                                                                                                    </td><td>15771                                                                                                                                                                                                   </td></tr>\n",
       "\t<tr><th scope=row>53</th><td>9faeb9b2746b9d7526aef5acb08e2aa0                                                                                                                                                                        </td><td>79183cd650e2bb0d475b0067d45946ac                                                                                                                                                                        </td><td>delivered                                                                                                                                                                                               </td><td>2018-07-26 14:39:59                                                                                                                                                                                     </td><td>2018-07-26 14:55:10                                                                                                                                                                                     </td><td>2018-07-27 12:04:00                                                                                                                                                                                     </td><td>2018-07-31 22:26:55                                                                                                                                                                                     </td><td>2018-08-16                                                                                                                                                                                              </td><td>25b502beeef8b3aff87449ccdc001f53                                                                                                                                                                        </td><td>1                                                                                                                                                                                                       </td><td>Recebi apenas 1 unidade                                                                                                                                                                                 </td><td>Recebi apenas 1 unidade solicitada, deveriam ser 2, inclusive foi cobrado e consta na nota fiscal. Estou tentando contato com a loja a 4 dias. Informam que vão me mandar por email o contato do fornece</td><td>2018-08-01 00:00:00                                                                                                                                                                                     </td><td>2018-08-04 02:14:45                                                                                                                                                                                     </td><td>-21693                                                                                                                                                                                                  </td><td>  15                                                                                                                                                                                                    </td><td> 7666                                                                                                                                                                                                   </td></tr>\n",
       "</tbody>\n",
       "</table>\n"
      ],
      "text/latex": [
       "\\begin{tabular}{r|lllllllllllllllll}\n",
       "  & order\\_id & customer\\_id & order\\_status & order\\_purchase\\_timestamp & order\\_approved\\_at & order\\_delivered\\_carrier\\_date & order\\_delivered\\_customer\\_date & order\\_estimated\\_delivery\\_date & review\\_id & review\\_score & review\\_comment\\_title & review\\_comment\\_message & review\\_creation\\_date & review\\_answer\\_timestamp & diff\\_estimated\\_actual\\_delivery\\_date & time\\_to\\_approve & time\\_to\\_deliver\\\\\n",
       "\\hline\n",
       "\t11 & e6ce16cb79ec1d90b1da9085a6118aeb                                                                                                                                                                         & 494dded5b201313c64ed7f100595b95c                                                                                                                                                                         & delivered                                                                                                                                                                                                & 2017-05-16 19:41:10                                                                                                                                                                                      & 2017-05-16 19:50:18                                                                                                                                                                                      & 2017-05-18 11:40:40                                                                                                                                                                                      & 2017-05-29 11:18:31                                                                                                                                                                                      & 2017-06-07                                                                                                                                                                                               & 15898b543726a832d4137fbef5d1d00e                                                                                                                                                                         & 1                                                                                                                                                                                                        &                                                                                                                                                                                                          & Aguardando retorno da loja                                                                                                                                                                               & 2017-05-30 00:00:00                                                                                                                                                                                      & 2017-05-30 23:13:47                                                                                                                                                                                      & -12281                                                                                                                                                                                                   &    9                                                                                                                                                                                                     & 18217                                                                                                                                                                                                   \\\\\n",
       "\t27 & acce194856392f074dbf9dada14d8d82                                                                                                                                                                         & 7e20bf5ca92da68200643bda76c504c6                                                                                                                                                                         & delivered                                                                                                                                                                                                & 2018-06-04 00:00:13                                                                                                                                                                                      & 2018-06-05 00:35:10                                                                                                                                                                                      & 2018-06-05 13:24:00                                                                                                                                                                                      & 2018-06-16 15:20:55                                                                                                                                                                                      & 2018-07-18                                                                                                                                                                                               & 2d4303fd561eb4ab51c87faa6598dc10                                                                                                                                                                         & 1                                                                                                                                                                                                        & NÃO RECOMENDO!!!!                                                                                                                                                                                        & Até o momento não recebi o produto Protetor De Colchão Para Berço - Algodão Impermeável, já fiz a reclamação desde o dia 18/06 e ainda não obtive retorno. Irei cancelar o pedido e estornar a compra hj & 2018-06-17 00:00:00                                                                                                                                                                                      & 2018-06-20 11:38:22                                                                                                                                                                                      & -45159                                                                                                                                                                                                   & 1474                                                                                                                                                                                                     & 18200                                                                                                                                                                                                   \\\\\n",
       "\t32 & 1790eea0b567cf50911c057cf20f90f9                                                                                                                                                                         & 52142aa69d8d0e1247ab0cada0f76023                                                                                                                                                                         & delivered                                                                                                                                                                                                & 2018-04-16 21:15:39                                                                                                                                                                                      & 2018-04-16 22:10:26                                                                                                                                                                                      & 2018-04-18 13:05:09                                                                                                                                                                                      & 2018-05-05 12:28:34                                                                                                                                                                                      & 2018-05-15                                                                                                                                                                                               & 764c587207b9589949abd863bdb72dec                                                                                                                                                                         & 1                                                                                                                                                                                                        & Enganadores                                                                                                                                                                                              & Foi entregue um produto divergente do que eu havia comprado, além de não vir com todos os acessórios constantes na descrição do anuncio. Solicito providências urgentes.                                 & 2018-05-06 00:00:00                                                                                                                                                                                      & 2018-05-08 23:47:22                                                                                                                                                                                      & -13651                                                                                                                                                                                                   &   54                                                                                                                                                                                                     & 26832                                                                                                                                                                                                   \\\\\n",
       "\t41 & 6ea2f835b4556291ffdc53fa0b3b95e8                                                                                                                                                                         & c7340080e394356141681bd4c9b8fe31                                                                                                                                                                         & delivered                                                                                                                                                                                                & 2017-11-24 21:27:48                                                                                                                                                                                      & 2017-11-25 00:21:09                                                                                                                                                                                      & 2017-12-13 21:14:05                                                                                                                                                                                      & 2017-12-28 18:59:23                                                                                                                                                                                      & 2017-12-21                                                                                                                                                                                               & 5caca29ffffe9086162ca51303817420                                                                                                                                                                         & 1                                                                                                                                                                                                        &                                                                                                                                                                                                          & Inicialmente, na data da compra o produto era para ser entregue até 21/12. Hoje é dia 27/12 e não chegou ainda.                                                                                          & 2017-12-22 00:00:00                                                                                                                                                                                      & 2017-12-28 11:25:32                                                                                                                                                                                      &  11219                                                                                                                                                                                                   &  173                                                                                                                                                                                                     & 48811                                                                                                                                                                                                   \\\\\n",
       "\t45 & 6ebaec694d7025e2ad4a05dba887c032                                                                                                                                                                         & 4f28355e5c17a4a42d3ce2439a1d4501                                                                                                                                                                         & delivered                                                                                                                                                                                                & 2017-05-18 13:55:47                                                                                                                                                                                      & 2017-05-18 14:05:17                                                                                                                                                                                      & 2017-05-19 12:01:38                                                                                                                                                                                      & 2017-05-29 12:47:20                                                                                                                                                                                      & 2017-06-09                                                                                                                                                                                               & 590aec3016a098ad236fc59459173f33                                                                                                                                                                         & 1                                                                                                                                                                                                        &                                                                                                                                                                                                          & A cuba veio quebrada. Como efetuo barroca?                                                                                                                                                               & 2017-05-30 00:00:00                                                                                                                                                                                      & 2017-05-31 13:34:59                                                                                                                                                                                      & -15072                                                                                                                                                                                                   &    9                                                                                                                                                                                                     & 15771                                                                                                                                                                                                   \\\\\n",
       "\t53 & 9faeb9b2746b9d7526aef5acb08e2aa0                                                                                                                                                                         & 79183cd650e2bb0d475b0067d45946ac                                                                                                                                                                         & delivered                                                                                                                                                                                                & 2018-07-26 14:39:59                                                                                                                                                                                      & 2018-07-26 14:55:10                                                                                                                                                                                      & 2018-07-27 12:04:00                                                                                                                                                                                      & 2018-07-31 22:26:55                                                                                                                                                                                      & 2018-08-16                                                                                                                                                                                               & 25b502beeef8b3aff87449ccdc001f53                                                                                                                                                                         & 1                                                                                                                                                                                                        & Recebi apenas 1 unidade                                                                                                                                                                                  & Recebi apenas 1 unidade solicitada, deveriam ser 2, inclusive foi cobrado e consta na nota fiscal. Estou tentando contato com a loja a 4 dias. Informam que vão me mandar por email o contato do fornece & 2018-08-01 00:00:00                                                                                                                                                                                      & 2018-08-04 02:14:45                                                                                                                                                                                      & -21693                                                                                                                                                                                                   &   15                                                                                                                                                                                                     &  7666                                                                                                                                                                                                   \\\\\n",
       "\\end{tabular}\n"
      ],
      "text/markdown": [
       "\n",
       "| <!--/--> | order_id | customer_id | order_status | order_purchase_timestamp | order_approved_at | order_delivered_carrier_date | order_delivered_customer_date | order_estimated_delivery_date | review_id | review_score | review_comment_title | review_comment_message | review_creation_date | review_answer_timestamp | diff_estimated_actual_delivery_date | time_to_approve | time_to_deliver | \n",
       "|---|---|---|---|---|---|\n",
       "| 11 | e6ce16cb79ec1d90b1da9085a6118aeb                                                                                                                                                                         | 494dded5b201313c64ed7f100595b95c                                                                                                                                                                         | delivered                                                                                                                                                                                                | 2017-05-16 19:41:10                                                                                                                                                                                      | 2017-05-16 19:50:18                                                                                                                                                                                      | 2017-05-18 11:40:40                                                                                                                                                                                      | 2017-05-29 11:18:31                                                                                                                                                                                      | 2017-06-07                                                                                                                                                                                               | 15898b543726a832d4137fbef5d1d00e                                                                                                                                                                         | 1                                                                                                                                                                                                        |                                                                                                                                                                                                          | Aguardando retorno da loja                                                                                                                                                                               | 2017-05-30 00:00:00                                                                                                                                                                                      | 2017-05-30 23:13:47                                                                                                                                                                                      | -12281                                                                                                                                                                                                   |    9                                                                                                                                                                                                     | 18217                                                                                                                                                                                                    | \n",
       "| 27 | acce194856392f074dbf9dada14d8d82                                                                                                                                                                         | 7e20bf5ca92da68200643bda76c504c6                                                                                                                                                                         | delivered                                                                                                                                                                                                | 2018-06-04 00:00:13                                                                                                                                                                                      | 2018-06-05 00:35:10                                                                                                                                                                                      | 2018-06-05 13:24:00                                                                                                                                                                                      | 2018-06-16 15:20:55                                                                                                                                                                                      | 2018-07-18                                                                                                                                                                                               | 2d4303fd561eb4ab51c87faa6598dc10                                                                                                                                                                         | 1                                                                                                                                                                                                        | NÃO RECOMENDO!!!!                                                                                                                                                                                        | Até o momento não recebi o produto Protetor De Colchão Para Berço - Algodão Impermeável, já fiz a reclamação desde o dia 18/06 e ainda não obtive retorno. Irei cancelar o pedido e estornar a compra hj | 2018-06-17 00:00:00                                                                                                                                                                                      | 2018-06-20 11:38:22                                                                                                                                                                                      | -45159                                                                                                                                                                                                   | 1474                                                                                                                                                                                                     | 18200                                                                                                                                                                                                    | \n",
       "| 32 | 1790eea0b567cf50911c057cf20f90f9                                                                                                                                                                         | 52142aa69d8d0e1247ab0cada0f76023                                                                                                                                                                         | delivered                                                                                                                                                                                                | 2018-04-16 21:15:39                                                                                                                                                                                      | 2018-04-16 22:10:26                                                                                                                                                                                      | 2018-04-18 13:05:09                                                                                                                                                                                      | 2018-05-05 12:28:34                                                                                                                                                                                      | 2018-05-15                                                                                                                                                                                               | 764c587207b9589949abd863bdb72dec                                                                                                                                                                         | 1                                                                                                                                                                                                        | Enganadores                                                                                                                                                                                              | Foi entregue um produto divergente do que eu havia comprado, além de não vir com todos os acessórios constantes na descrição do anuncio. Solicito providências urgentes.                                 | 2018-05-06 00:00:00                                                                                                                                                                                      | 2018-05-08 23:47:22                                                                                                                                                                                      | -13651                                                                                                                                                                                                   |   54                                                                                                                                                                                                     | 26832                                                                                                                                                                                                    | \n",
       "| 41 | 6ea2f835b4556291ffdc53fa0b3b95e8                                                                                                                                                                         | c7340080e394356141681bd4c9b8fe31                                                                                                                                                                         | delivered                                                                                                                                                                                                | 2017-11-24 21:27:48                                                                                                                                                                                      | 2017-11-25 00:21:09                                                                                                                                                                                      | 2017-12-13 21:14:05                                                                                                                                                                                      | 2017-12-28 18:59:23                                                                                                                                                                                      | 2017-12-21                                                                                                                                                                                               | 5caca29ffffe9086162ca51303817420                                                                                                                                                                         | 1                                                                                                                                                                                                        |                                                                                                                                                                                                          | Inicialmente, na data da compra o produto era para ser entregue até 21/12. Hoje é dia 27/12 e não chegou ainda.                                                                                          | 2017-12-22 00:00:00                                                                                                                                                                                      | 2017-12-28 11:25:32                                                                                                                                                                                      |  11219                                                                                                                                                                                                   |  173                                                                                                                                                                                                     | 48811                                                                                                                                                                                                    | \n",
       "| 45 | 6ebaec694d7025e2ad4a05dba887c032                                                                                                                                                                         | 4f28355e5c17a4a42d3ce2439a1d4501                                                                                                                                                                         | delivered                                                                                                                                                                                                | 2017-05-18 13:55:47                                                                                                                                                                                      | 2017-05-18 14:05:17                                                                                                                                                                                      | 2017-05-19 12:01:38                                                                                                                                                                                      | 2017-05-29 12:47:20                                                                                                                                                                                      | 2017-06-09                                                                                                                                                                                               | 590aec3016a098ad236fc59459173f33                                                                                                                                                                         | 1                                                                                                                                                                                                        |                                                                                                                                                                                                          | A cuba veio quebrada. Como efetuo barroca?                                                                                                                                                               | 2017-05-30 00:00:00                                                                                                                                                                                      | 2017-05-31 13:34:59                                                                                                                                                                                      | -15072                                                                                                                                                                                                   |    9                                                                                                                                                                                                     | 15771                                                                                                                                                                                                    | \n",
       "| 53 | 9faeb9b2746b9d7526aef5acb08e2aa0                                                                                                                                                                         | 79183cd650e2bb0d475b0067d45946ac                                                                                                                                                                         | delivered                                                                                                                                                                                                | 2018-07-26 14:39:59                                                                                                                                                                                      | 2018-07-26 14:55:10                                                                                                                                                                                      | 2018-07-27 12:04:00                                                                                                                                                                                      | 2018-07-31 22:26:55                                                                                                                                                                                      | 2018-08-16                                                                                                                                                                                               | 25b502beeef8b3aff87449ccdc001f53                                                                                                                                                                         | 1                                                                                                                                                                                                        | Recebi apenas 1 unidade                                                                                                                                                                                  | Recebi apenas 1 unidade solicitada, deveriam ser 2, inclusive foi cobrado e consta na nota fiscal. Estou tentando contato com a loja a 4 dias. Informam que vão me mandar por email o contato do fornece | 2018-08-01 00:00:00                                                                                                                                                                                      | 2018-08-04 02:14:45                                                                                                                                                                                      | -21693                                                                                                                                                                                                   |   15                                                                                                                                                                                                     |  7666                                                                                                                                                                                                    | \n",
       "\n",
       "\n"
      ],
      "text/plain": [
       "   order_id                         customer_id                     \n",
       "11 e6ce16cb79ec1d90b1da9085a6118aeb 494dded5b201313c64ed7f100595b95c\n",
       "27 acce194856392f074dbf9dada14d8d82 7e20bf5ca92da68200643bda76c504c6\n",
       "32 1790eea0b567cf50911c057cf20f90f9 52142aa69d8d0e1247ab0cada0f76023\n",
       "41 6ea2f835b4556291ffdc53fa0b3b95e8 c7340080e394356141681bd4c9b8fe31\n",
       "45 6ebaec694d7025e2ad4a05dba887c032 4f28355e5c17a4a42d3ce2439a1d4501\n",
       "53 9faeb9b2746b9d7526aef5acb08e2aa0 79183cd650e2bb0d475b0067d45946ac\n",
       "   order_status order_purchase_timestamp order_approved_at  \n",
       "11 delivered    2017-05-16 19:41:10      2017-05-16 19:50:18\n",
       "27 delivered    2018-06-04 00:00:13      2018-06-05 00:35:10\n",
       "32 delivered    2018-04-16 21:15:39      2018-04-16 22:10:26\n",
       "41 delivered    2017-11-24 21:27:48      2017-11-25 00:21:09\n",
       "45 delivered    2017-05-18 13:55:47      2017-05-18 14:05:17\n",
       "53 delivered    2018-07-26 14:39:59      2018-07-26 14:55:10\n",
       "   order_delivered_carrier_date order_delivered_customer_date\n",
       "11 2017-05-18 11:40:40          2017-05-29 11:18:31          \n",
       "27 2018-06-05 13:24:00          2018-06-16 15:20:55          \n",
       "32 2018-04-18 13:05:09          2018-05-05 12:28:34          \n",
       "41 2017-12-13 21:14:05          2017-12-28 18:59:23          \n",
       "45 2017-05-19 12:01:38          2017-05-29 12:47:20          \n",
       "53 2018-07-27 12:04:00          2018-07-31 22:26:55          \n",
       "   order_estimated_delivery_date review_id                        review_score\n",
       "11 2017-06-07                    15898b543726a832d4137fbef5d1d00e 1           \n",
       "27 2018-07-18                    2d4303fd561eb4ab51c87faa6598dc10 1           \n",
       "32 2018-05-15                    764c587207b9589949abd863bdb72dec 1           \n",
       "41 2017-12-21                    5caca29ffffe9086162ca51303817420 1           \n",
       "45 2017-06-09                    590aec3016a098ad236fc59459173f33 1           \n",
       "53 2018-08-16                    25b502beeef8b3aff87449ccdc001f53 1           \n",
       "   review_comment_title   \n",
       "11                        \n",
       "27 NÃO RECOMENDO!!!!      \n",
       "32 Enganadores            \n",
       "41                        \n",
       "45                        \n",
       "53 Recebi apenas 1 unidade\n",
       "   review_comment_message                                                                                                                                                                                  \n",
       "11 Aguardando retorno da loja                                                                                                                                                                              \n",
       "27 Até o momento não recebi o produto Protetor De Colchão Para Berço - Algodão Impermeável, já fiz a reclamação desde o dia 18/06 e ainda não obtive retorno. Irei cancelar o pedido e estornar a compra hj\n",
       "32 Foi entregue um produto divergente do que eu havia comprado, além de não vir com todos os acessórios constantes na descrição do anuncio. Solicito providências urgentes.                                \n",
       "41 Inicialmente, na data da compra o produto era para ser entregue até 21/12. Hoje é dia 27/12 e não chegou ainda.                                                                                         \n",
       "45 A cuba veio quebrada. Como efetuo barroca?                                                                                                                                                              \n",
       "53 Recebi apenas 1 unidade solicitada, deveriam ser 2, inclusive foi cobrado e consta na nota fiscal. Estou tentando contato com a loja a 4 dias. Informam que vão me mandar por email o contato do fornece\n",
       "   review_creation_date review_answer_timestamp\n",
       "11 2017-05-30 00:00:00  2017-05-30 23:13:47    \n",
       "27 2018-06-17 00:00:00  2018-06-20 11:38:22    \n",
       "32 2018-05-06 00:00:00  2018-05-08 23:47:22    \n",
       "41 2017-12-22 00:00:00  2017-12-28 11:25:32    \n",
       "45 2017-05-30 00:00:00  2017-05-31 13:34:59    \n",
       "53 2018-08-01 00:00:00  2018-08-04 02:14:45    \n",
       "   diff_estimated_actual_delivery_date time_to_approve time_to_deliver\n",
       "11 -12281                                 9            18217          \n",
       "27 -45159                              1474            18200          \n",
       "32 -13651                                54            26832          \n",
       "41  11219                               173            48811          \n",
       "45 -15072                                 9            15771          \n",
       "53 -21693                                15             7666          "
      ]
     },
     "metadata": {},
     "output_type": "display_data"
    }
   ],
   "source": [
    "head(x)"
   ]
  },
  {
   "cell_type": "code",
   "execution_count": 196,
   "metadata": {},
   "outputs": [],
   "source": [
    "z = c(x$review_comment_message)   # converting to a vector data structure"
   ]
  },
  {
   "cell_type": "markdown",
   "metadata": {},
   "source": [
    "Generating bigrams and trigrams, stopword(portuguese) and punctuaution removal"
   ]
  },
  {
   "cell_type": "code",
   "execution_count": 207,
   "metadata": {},
   "outputs": [],
   "source": [
    "bigrams <- quanteda::dfm(z, ,remove = stopwords(\"portuguese\"),ngrams=2, concatenator=\" \",remove_punct = TRUE)\n",
    "trigrams <- quanteda::dfm(z, ,remove = stopwords(\"portuguese\"),ngrams=3, concatenator=\" \",remove_punct = TRUE)"
   ]
  },
  {
   "cell_type": "markdown",
   "metadata": {},
   "source": [
    "Selecting the top 20 bigrams and trigrams into a data frame"
   ]
  },
  {
   "cell_type": "code",
   "execution_count": 219,
   "metadata": {},
   "outputs": [],
   "source": [
    "topFeatures_bigrams <- topfeatures(bigrams, 20)\n",
    "topFeatures_trigrams <- topfeatures(trigrams, 20)\n",
    "\n",
    "df <- data.frame(word_bigrams=names(topFeatures_bigrams), count_bigrams=topFeatures_bigrams,word_trigrams=names(topFeatures_trigrams),count_trigramst=topFeatures_trigrams)\n",
    "#ggplot(df, aes(x=reorder(df$word, df$count_trigrams), y=df$count_trigrams)) + geom_bar(stat=\"identity\") + coord_flip() + xlab('Count') + ylab('Words (trigrams)') + ggtitle('Most Common trigrams Excluding Stop Words')"
   ]
  },
  {
   "cell_type": "markdown",
   "metadata": {},
   "source": [
    "Writing them to CSV file"
   ]
  },
  {
   "cell_type": "code",
   "execution_count": 220,
   "metadata": {},
   "outputs": [],
   "source": [
    "#head(df)\n",
    "write.csv(df,'ngrams_olist.csv', row.names = FALSE)"
   ]
  },
  {
   "cell_type": "markdown",
   "metadata": {},
   "source": [
    "# Mongo Shell join code"
   ]
  },
  {
   "cell_type": "markdown",
   "metadata": {},
   "source": [
    "This show the logic of the code structure which is implemented in mongoshell for joining multiple collections.\n",
    "\n",
    "Refer the report(methodology) for more info"
   ]
  },
  {
   "cell_type": "markdown",
   "metadata": {},
   "source": [
    "db.reviews.aggregate([\n",
    "    {$lookup:\n",
    "     {from: \"orders\",\n",
    "      localField: \"order_id\",\n",
    "      foreignField:\"order_id\",\n",
    "      as: \"order_reviews\"}\n",
    "    },\n",
    "    {$replaceRoot: \n",
    "     { newRoot: \n",
    "      { $mergeObjects: [ { $arrayElemAt: [ \"$order_reviews\", 0 ] }, \"$$ROOT\" ] } }}, \n",
    "    { $project: { order_reviews: 0 } },\n",
    "    \n",
    "    {\"$lookup\":\n",
    "     {from: \"cust_record\",\n",
    "      localField: \"customer_id\",\n",
    "      foreignField:\"customer_id\",\n",
    "      as: \"cust_data\"}},\n",
    "    {$replaceRoot: \n",
    "     { newRoot: { $mergeObjects: [ { $arrayElemAt: [ \"$cust_data\", 0 ] }, \"$$ROOT\" ] } }},\n",
    "    { $project: { cust_data: 0 } },\n",
    "    \n",
    "    {\"$lookup\":\n",
    "     {\"from\": \"geo_records\",\n",
    "      \"localField\": \"geolocation_zip_code_prefix\",\n",
    "      \"foreignField\":\"geolocation_zip_code_prefix\",\n",
    "      \"as\": \"geo_data\"}},\n",
    "    {$replaceRoot: { newRoot: { $mergeObjects: [ { $arrayElemAt: [ \"$geo_data\", 0 ] }, \"$$ROOT\" ] } }},\n",
    "    { $project: { geo_data : 0 } },\n",
    "    \n",
    "    {\"$project\": \n",
    "     {\"order_id\": 1,\n",
    "      \"customer_id\": 1,\n",
    "      \"review_score\": 1,\n",
    "      \"customer_city\": 1,\n",
    "      \"customer_state\": 1,\n",
    "      \"geolocation_zip_code_prefix\" : 1,\n",
    "      \"geolocation_lng\" : 1,\n",
    "      \"geolocation_lat\" : 1}},\n",
    "    \n",
    "    { $out : \"review analysis\" }])"
   ]
  },
  {
   "cell_type": "code",
   "execution_count": null,
   "metadata": {},
   "outputs": [],
   "source": []
  }
 ],
 "metadata": {
  "kernelspec": {
   "display_name": "R",
   "language": "R",
   "name": "ir"
  },
  "language_info": {
   "codemirror_mode": "r",
   "file_extension": ".r",
   "mimetype": "text/x-r-source",
   "name": "R",
   "pygments_lexer": "r",
   "version": "3.4.3"
  }
 },
 "nbformat": 4,
 "nbformat_minor": 2
}
